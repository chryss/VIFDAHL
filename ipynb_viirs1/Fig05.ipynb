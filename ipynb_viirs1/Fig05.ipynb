{
 "cells": [
  {
   "cell_type": "code",
   "execution_count": 1,
   "metadata": {
    "collapsed": true
   },
   "outputs": [],
   "source": [
    "%matplotlib inline\n",
    "from __future__ import print_function, division\n",
    "import sys, os\n",
    "import json\n",
    "import math\n",
    "import itertools, collections\n",
    "import datetime as dt"
   ]
  },
  {
   "cell_type": "code",
   "execution_count": 2,
   "metadata": {
    "collapsed": true
   },
   "outputs": [],
   "source": [
    "import geopandas as gp\n",
    "import pandas as pd"
   ]
  },
  {
   "cell_type": "code",
   "execution_count": 3,
   "metadata": {
    "collapsed": true
   },
   "outputs": [],
   "source": [
    "from matplotlib import pyplot as plt\n",
    "import seaborn as sns\n",
    "sns.set_context(\"poster\")\n",
    "#sns.set_context(\"talk\", font_scale=1.4)"
   ]
  },
  {
   "cell_type": "code",
   "execution_count": 4,
   "metadata": {
    "collapsed": false
   },
   "outputs": [
    {
     "data": {
      "image/png": "[encoded data removed]",
      "text/plain": [
       "<matplotlib.figure.Figure at 0x113cc3e90>"
      ]
     },
     "metadata": {},
     "output_type": "display_data"
    }
   ],
   "source": [
    "current_palette = sns.color_palette(sns.hls_palette(6, l=.4, s=.9))\n",
    "sns.set_palette(current_palette)\n",
    "sns.palplot(current_palette)\n",
    "palette = itertools.cycle(sns.color_palette())"
   ]
  },
  {
   "cell_type": "markdown",
   "metadata": {},
   "source": [
    "We use Alaska Albers shapefiles all around to be able to measure distances in metres. The WGS84 shapefiles from AICC and the Forest Service Active Fire Maps web portal were converted using GDAL: \n",
    "\n",
    "`ogr2ogr -f \"ESRI Shapefile\" outfile_AKAlbers.shp infile.shp -s_srs EPSG:4326 -t_SRS EPSG:3338` "
   ]
  },
  {
   "cell_type": "markdown",
   "metadata": {},
   "source": [
    "### Data loading - fire events as per management agencies & remotely sensed hotspots"
   ]
  },
  {
   "cell_type": "markdown",
   "metadata": {},
   "source": [
    "Fire GIS data from AICC. (*NOTE:* The AK Albers Shapefile for fire locations was generated not directly from the WGS84 AICC shapefile. The latter was found to be somewhat corrupted with fields out of date. I first transformed it to JSON-WGS84 and then generated the AK Albers Shapefile from the JSON. Data thus generated looks consistent.) These have been pre-processed and joined against fire perimeters. "
   ]
  },
  {
   "cell_type": "code",
   "execution_count": 5,
   "metadata": {
    "collapsed": true
   },
   "outputs": [],
   "source": [
    "datadir = \"/Volumes/SCIENCE_mobile_Mac/Fire/DATA_BY_PROJECT/2015VIIRSMODIS/10_intermediate_products/\"\n",
    "fireperimshp = \"2016cleanedFirePerimsWithFirepoints20170417.shp\""
   ]
  },
  {
   "cell_type": "markdown",
   "metadata": {},
   "source": [
    "Active fire hotspots from FIRMS, also pre-processed:"
   ]
  },
  {
   "cell_type": "code",
   "execution_count": 6,
   "metadata": {
    "collapsed": true
   },
   "outputs": [],
   "source": [
    "mod14shp = \"2016MOD14_Perims_AKAlbers_5km.shp\"\n",
    "viirsIshp = \"2016VIIRSI_Perims_AKAlbers_5km.shp\""
   ]
  },
  {
   "cell_type": "code",
   "execution_count": 7,
   "metadata": {
    "collapsed": true
   },
   "outputs": [],
   "source": [
    "fireperimDF = gp.GeoDataFrame.from_file(os.path.join(datadir, fireperimshp))\n",
    "mod14DF = gp.GeoDataFrame.from_file(os.path.join(datadir, mod14shp))\n",
    "viirsIDF = gp.GeoDataFrame.from_file(os.path.join(datadir, viirsIshp))"
   ]
  },
  {
   "cell_type": "markdown",
   "metadata": {},
   "source": [
    "We keep a list of columns for printing out data. "
   ]
  },
  {
   "cell_type": "code",
   "execution_count": 8,
   "metadata": {
    "collapsed": true
   },
   "outputs": [],
   "source": [
    "maincols = [u'FireName', u'CalcAcres', u'PrimFuel', u'MgmOption', u'InitBehave', \n",
    "            u'PerimDate', u'DiscDate', u'CntrlDate', u'OutDate']"
   ]
  },
  {
   "cell_type": "code",
   "execution_count": 9,
   "metadata": {
    "collapsed": true
   },
   "outputs": [],
   "source": [
    "numperims = len(fireperimDF)"
   ]
  },
  {
   "cell_type": "code",
   "execution_count": 10,
   "metadata": {
    "collapsed": false
   },
   "outputs": [
    {
     "name": "stdout",
     "output_type": "stream",
     "text": [
      "Total number of fire perimeters: 155\n",
      "Number of fire perimeters with AFS ID: 138\n",
      "Number of fire perimeters with DOF ID: 103\n",
      "Number of fire perimeters with USFS ID: 24\n"
     ]
    }
   ],
   "source": [
    "print(\"Total number of fire perimeters: {}\".format(numperims))\n",
    "print(\"Number of fire perimeters with AFS ID: {}\".format(numperims - sum(fireperimDF['AFSFire#'].isnull())))\n",
    "print(\"Number of fire perimeters with DOF ID: {}\".format(numperims - sum(fireperimDF['DOFFire#'].isnull())))\n",
    "print(\"Number of fire perimeters with USFS ID: {}\".format(numperims - sum(fireperimDF['USFSFire#'].isnull())))\n"
   ]
  },
  {
   "cell_type": "code",
   "execution_count": 11,
   "metadata": {
    "collapsed": true
   },
   "outputs": [],
   "source": [
    "cleanedfireperimDF = fireperimDF"
   ]
  },
  {
   "cell_type": "code",
   "execution_count": 12,
   "metadata": {
    "collapsed": false
   },
   "outputs": [
    {
     "data": {
      "text/plain": [
       "Index([  u'AFSFire#',       u'AREA',   u'AddFire#', u'AgencyAcre',\n",
       "           u'Aspect',  u'CalcAcres',  u'CntrlDate',   u'Comments',\n",
       "          u'Complex',   u'DOFFire#',   u'DiscDate',   u'DiscSize',\n",
       "         u'EditDate',  u'Elevation',   u'EstAcres',    u'EstCost',\n",
       "           u'FIREID', u'FalseAlarm',      u'Final',   u'FireName',\n",
       "         u'FireYear',   u'GenCause',     u'IADate',     u'IASize',\n",
       "       u'InitBehave', u'LATESTPERI',        u'LEN',   u'Latitude',\n",
       "        u'Longitude', u'MOD14Acoun', u'MOD14Tcoun', u'MOD14count',\n",
       "          u'MapName',     u'Method',      u'MgmID',   u'MgmOffId',\n",
       "        u'MgmOption',  u'NearestWX',  u'OriginOwn', u'OriginUnit',\n",
       "          u'OutDate',  u'PerimDate',  u'PerimTime', u'Prescribed',\n",
       "         u'PrimFuel',    u'Record#',      u'Slope',     u'Source',\n",
       "        u'SpecCause',   u'SrcClass',  u'SrcMethod',  u'StrBurned',\n",
       "        u'StrThreat',  u'USFSFire#', u'VIIRSIcoun',  u'cleanedID',\n",
       "         u'geometry'],\n",
       "      dtype='object')"
      ]
     },
     "execution_count": 12,
     "metadata": {},
     "output_type": "execute_result"
    }
   ],
   "source": [
    "cleanedfireperimDF.columns"
   ]
  },
  {
   "cell_type": "markdown",
   "metadata": {},
   "source": [
    "### Inspecting the cleaned perimeter dataset, and last adjustments"
   ]
  },
  {
   "cell_type": "markdown",
   "metadata": {},
   "source": [
    "Here is the reason I kept these columns. I'll change the case of the management options... "
   ]
  },
  {
   "cell_type": "code",
   "execution_count": 13,
   "metadata": {
    "collapsed": false
   },
   "outputs": [
    {
     "data": {
      "text/plain": [
       "Black Spruce                   88\n",
       "Tundra                         17\n",
       "Mixed (Hardwoods/Softwoods)    11\n",
       "Grass                          10\n",
       "Other                           9\n",
       "Dead White Spruce               6\n",
       "Tussock                         5\n",
       "Hardwoods                       4\n",
       "Unknown                         3\n",
       "Mixed Trees                     1\n",
       "Brush                           1\n",
       "Name: PrimFuel, dtype: int64"
      ]
     },
     "execution_count": 13,
     "metadata": {},
     "output_type": "execute_result"
    }
   ],
   "source": [
    "cleanedfireperimDF['PrimFuel'].value_counts()"
   ]
  },
  {
   "cell_type": "code",
   "execution_count": 14,
   "metadata": {
    "collapsed": false
   },
   "outputs": [
    {
     "data": {
      "text/plain": [
       "Creeping      53\n",
       "Rank 1        38\n",
       "Running       22\n",
       "Smoldering    12\n",
       "Rank 3        11\n",
       "Rank 2        10\n",
       "Crowning       3\n",
       "Rank 4         2\n",
       "Unknown        1\n",
       "Out            1\n",
       "Rank 5         1\n",
       "Name: InitBehave, dtype: int64"
      ]
     },
     "execution_count": 14,
     "metadata": {},
     "output_type": "execute_result"
    }
   ],
   "source": [
    "cleanedfireperimDF['InitBehave'].value_counts()"
   ]
  },
  {
   "cell_type": "markdown",
   "metadata": {},
   "source": [
    "We also need to ensure spelling of the properties is normalised:"
   ]
  },
  {
   "cell_type": "code",
   "execution_count": 15,
   "metadata": {
    "collapsed": false
   },
   "outputs": [
    {
     "data": {
      "text/plain": [
       "Limited     99\n",
       "Full        29\n",
       "Modified    24\n",
       "Critical     3\n",
       "Name: MgmOption, dtype: int64"
      ]
     },
     "execution_count": 15,
     "metadata": {},
     "output_type": "execute_result"
    }
   ],
   "source": [
    "cleanedfireperimDF['MgmOption'].value_counts()"
   ]
  },
  {
   "cell_type": "code",
   "execution_count": 16,
   "metadata": {
    "collapsed": false
   },
   "outputs": [
    {
     "data": {
      "text/plain": [
       "Lightning    133\n",
       "Human         22\n",
       "Name: GenCause, dtype: int64"
      ]
     },
     "execution_count": 16,
     "metadata": {},
     "output_type": "execute_result"
    }
   ],
   "source": [
    "cleanedfireperimDF['GenCause'].value_counts()"
   ]
  },
  {
   "cell_type": "code",
   "execution_count": 17,
   "metadata": {
    "collapsed": false,
    "scrolled": false
   },
   "outputs": [
    {
     "data": {
      "text/html": [
       "<div>\n",
       "<table border=\"1\" class=\"dataframe\">\n",
       "  <thead>\n",
       "    <tr style=\"text-align: right;\">\n",
       "      <th></th>\n",
       "      <th>AFSFire#</th>\n",
       "      <th>AREA</th>\n",
       "      <th>AddFire#</th>\n",
       "      <th>AgencyAcre</th>\n",
       "      <th>Aspect</th>\n",
       "      <th>CalcAcres</th>\n",
       "      <th>CntrlDate</th>\n",
       "      <th>Comments</th>\n",
       "      <th>Complex</th>\n",
       "      <th>DOFFire#</th>\n",
       "      <th>...</th>\n",
       "      <th>Source</th>\n",
       "      <th>SpecCause</th>\n",
       "      <th>SrcClass</th>\n",
       "      <th>SrcMethod</th>\n",
       "      <th>StrBurned</th>\n",
       "      <th>StrThreat</th>\n",
       "      <th>USFSFire#</th>\n",
       "      <th>VIIRSIcoun</th>\n",
       "      <th>cleanedID</th>\n",
       "      <th>geometry</th>\n",
       "    </tr>\n",
       "  </thead>\n",
       "  <tbody>\n",
       "    <tr>\n",
       "      <th>32</th>\n",
       "      <td>KD94</td>\n",
       "      <td>0.047966</td>\n",
       "      <td>None</td>\n",
       "      <td>0.0</td>\n",
       "      <td>Flat</td>\n",
       "      <td>58565.3</td>\n",
       "      <td>2016-07-12</td>\n",
       "      <td>Digitized from Landsat 8 image collected 8/16/16</td>\n",
       "      <td>None</td>\n",
       "      <td>631399</td>\n",
       "      <td>...</td>\n",
       "      <td>Digitized</td>\n",
       "      <td>Lightning</td>\n",
       "      <td>B - Within 90 Meters</td>\n",
       "      <td>Image</td>\n",
       "      <td>0</td>\n",
       "      <td>0</td>\n",
       "      <td>None</td>\n",
       "      <td>1323</td>\n",
       "      <td>KD94</td>\n",
       "      <td>POLYGON ((1221.001382690641 1847941.319830814,...</td>\n",
       "    </tr>\n",
       "    <tr>\n",
       "      <th>71</th>\n",
       "      <td>KB69</td>\n",
       "      <td>0.046233</td>\n",
       "      <td>None</td>\n",
       "      <td>0.0</td>\n",
       "      <td>Flat</td>\n",
       "      <td>58137.8</td>\n",
       "      <td>2016-09-29</td>\n",
       "      <td>Portions of the perimeter updated using Landsa...</td>\n",
       "      <td>None</td>\n",
       "      <td>632325</td>\n",
       "      <td>...</td>\n",
       "      <td>Digitized</td>\n",
       "      <td>Lightning</td>\n",
       "      <td>None</td>\n",
       "      <td>Image</td>\n",
       "      <td>0</td>\n",
       "      <td>0</td>\n",
       "      <td>PDKB69</td>\n",
       "      <td>993</td>\n",
       "      <td>KB69</td>\n",
       "      <td>POLYGON ((-73643.23357015298 1779075.461607415...</td>\n",
       "    </tr>\n",
       "    <tr>\n",
       "      <th>145</th>\n",
       "      <td>KB76</td>\n",
       "      <td>0.043177</td>\n",
       "      <td>None</td>\n",
       "      <td>0.0</td>\n",
       "      <td>Flat</td>\n",
       "      <td>52334.7</td>\n",
       "      <td>2016-09-22</td>\n",
       "      <td>Digitized from Landsat 8 image collected 8/16/16</td>\n",
       "      <td>None</td>\n",
       "      <td>631337</td>\n",
       "      <td>...</td>\n",
       "      <td>Digitized</td>\n",
       "      <td>Lightning</td>\n",
       "      <td>B - Within 90 Meters</td>\n",
       "      <td>Image</td>\n",
       "      <td>0</td>\n",
       "      <td>0</td>\n",
       "      <td>None</td>\n",
       "      <td>1007</td>\n",
       "      <td>KB76</td>\n",
       "      <td>POLYGON ((11909.08875179134 1876762.4853593, 1...</td>\n",
       "    </tr>\n",
       "    <tr>\n",
       "      <th>74</th>\n",
       "      <td>J9R3</td>\n",
       "      <td>0.033728</td>\n",
       "      <td>None</td>\n",
       "      <td>0.0</td>\n",
       "      <td>South West</td>\n",
       "      <td>44539.9</td>\n",
       "      <td>2016-09-22</td>\n",
       "      <td>Digitized from Landsat 8 image collected 8/16/16</td>\n",
       "      <td>None</td>\n",
       "      <td>632226</td>\n",
       "      <td>...</td>\n",
       "      <td>Digitized</td>\n",
       "      <td>Lightning</td>\n",
       "      <td>B - Within 90 Meters</td>\n",
       "      <td>Image</td>\n",
       "      <td>0</td>\n",
       "      <td>1</td>\n",
       "      <td>PDJ9R3</td>\n",
       "      <td>152</td>\n",
       "      <td>J9R3</td>\n",
       "      <td>POLYGON ((39182.21833742519 1616190.144272745,...</td>\n",
       "    </tr>\n",
       "    <tr>\n",
       "      <th>12</th>\n",
       "      <td>KB51</td>\n",
       "      <td>0.030754</td>\n",
       "      <td>None</td>\n",
       "      <td>0.0</td>\n",
       "      <td>Flat</td>\n",
       "      <td>36751.9</td>\n",
       "      <td>2016-09-22</td>\n",
       "      <td>Digitized using Landsat 8 image collected 8/16/16</td>\n",
       "      <td>None</td>\n",
       "      <td>631320</td>\n",
       "      <td>...</td>\n",
       "      <td>Digitized</td>\n",
       "      <td>Lightning</td>\n",
       "      <td>B - Within 90 Meters</td>\n",
       "      <td>Image</td>\n",
       "      <td>0</td>\n",
       "      <td>3</td>\n",
       "      <td>PDKB51</td>\n",
       "      <td>983</td>\n",
       "      <td>KB51</td>\n",
       "      <td>POLYGON ((63177.72295097367 1912038.850102146,...</td>\n",
       "    </tr>\n",
       "    <tr>\n",
       "      <th>123</th>\n",
       "      <td>KC93</td>\n",
       "      <td>0.028833</td>\n",
       "      <td>None</td>\n",
       "      <td>0.0</td>\n",
       "      <td>Flat</td>\n",
       "      <td>34590.8</td>\n",
       "      <td>2016-09-29</td>\n",
       "      <td>Original perimeter updated using Landsat 8 fro...</td>\n",
       "      <td>None</td>\n",
       "      <td>631386</td>\n",
       "      <td>...</td>\n",
       "      <td>Digitized</td>\n",
       "      <td>Lightning</td>\n",
       "      <td>None</td>\n",
       "      <td>Image</td>\n",
       "      <td>0</td>\n",
       "      <td>0</td>\n",
       "      <td>PDKC93</td>\n",
       "      <td>596</td>\n",
       "      <td>KC93</td>\n",
       "      <td>(POLYGON ((-71595.44157561524 1907172.09862933...</td>\n",
       "    </tr>\n",
       "    <tr>\n",
       "      <th>43</th>\n",
       "      <td>J9TV</td>\n",
       "      <td>0.014794</td>\n",
       "      <td>None</td>\n",
       "      <td>0.0</td>\n",
       "      <td>North</td>\n",
       "      <td>21304.5</td>\n",
       "      <td>2016-08-21</td>\n",
       "      <td>Digitized from Landsat 8 image collected 6/27</td>\n",
       "      <td>None</td>\n",
       "      <td>632235</td>\n",
       "      <td>...</td>\n",
       "      <td>Digitized</td>\n",
       "      <td>Lightning</td>\n",
       "      <td>B - Within 90 Meters</td>\n",
       "      <td>Image</td>\n",
       "      <td>0</td>\n",
       "      <td>0</td>\n",
       "      <td>PDJ9TV</td>\n",
       "      <td>329</td>\n",
       "      <td>J9TV</td>\n",
       "      <td>POLYGON ((-378851.4657811324 1366614.111643162...</td>\n",
       "    </tr>\n",
       "    <tr>\n",
       "      <th>58</th>\n",
       "      <td>KF4K</td>\n",
       "      <td>0.013345</td>\n",
       "      <td>None</td>\n",
       "      <td>0.0</td>\n",
       "      <td>NW</td>\n",
       "      <td>19719.0</td>\n",
       "      <td>None</td>\n",
       "      <td>Perimeter submitted by NPS.</td>\n",
       "      <td>None</td>\n",
       "      <td>614521</td>\n",
       "      <td>...</td>\n",
       "      <td>GPS</td>\n",
       "      <td>Lightning</td>\n",
       "      <td>None</td>\n",
       "      <td>Helicopter</td>\n",
       "      <td>0</td>\n",
       "      <td>0</td>\n",
       "      <td>PNKF4K</td>\n",
       "      <td>1240</td>\n",
       "      <td>KF4K</td>\n",
       "      <td>POLYGON ((571351.8192627283 1304384.556262721,...</td>\n",
       "    </tr>\n",
       "    <tr>\n",
       "      <th>70</th>\n",
       "      <td>KB7C</td>\n",
       "      <td>0.011959</td>\n",
       "      <td>None</td>\n",
       "      <td>0.0</td>\n",
       "      <td>Flat</td>\n",
       "      <td>14864.2</td>\n",
       "      <td>2016-09-29</td>\n",
       "      <td>Portions of the perimeter updated using Landsa...</td>\n",
       "      <td>None</td>\n",
       "      <td>631326</td>\n",
       "      <td>...</td>\n",
       "      <td>Digitized</td>\n",
       "      <td>Lightning</td>\n",
       "      <td>None</td>\n",
       "      <td>Image</td>\n",
       "      <td>0</td>\n",
       "      <td>0</td>\n",
       "      <td>PDKB7C</td>\n",
       "      <td>232</td>\n",
       "      <td>KB7C</td>\n",
       "      <td>POLYGON ((-76461.19148721524 1800471.634490524...</td>\n",
       "    </tr>\n",
       "    <tr>\n",
       "      <th>66</th>\n",
       "      <td>KF09</td>\n",
       "      <td>0.008471</td>\n",
       "      <td>None</td>\n",
       "      <td>0.0</td>\n",
       "      <td>East</td>\n",
       "      <td>10912.8</td>\n",
       "      <td>2016-08-21</td>\n",
       "      <td>Perimeter updated using Landsat 8 imagery.</td>\n",
       "      <td>None</td>\n",
       "      <td>None</td>\n",
       "      <td>...</td>\n",
       "      <td>Digitized</td>\n",
       "      <td>Lightning</td>\n",
       "      <td>None</td>\n",
       "      <td>Image</td>\n",
       "      <td>0</td>\n",
       "      <td>0</td>\n",
       "      <td>None</td>\n",
       "      <td>203</td>\n",
       "      <td>KF09</td>\n",
       "      <td>POLYGON ((-200773.0053468661 1706191.38626414,...</td>\n",
       "    </tr>\n",
       "  </tbody>\n",
       "</table>\n",
       "<p>10 rows × 57 columns</p>\n",
       "</div>"
      ],
      "text/plain": [
       "    AFSFire#      AREA AddFire#  AgencyAcre      Aspect  CalcAcres  \\\n",
       "32      KD94  0.047966     None         0.0        Flat    58565.3   \n",
       "71      KB69  0.046233     None         0.0        Flat    58137.8   \n",
       "145     KB76  0.043177     None         0.0        Flat    52334.7   \n",
       "74      J9R3  0.033728     None         0.0  South West    44539.9   \n",
       "12      KB51  0.030754     None         0.0        Flat    36751.9   \n",
       "123     KC93  0.028833     None         0.0        Flat    34590.8   \n",
       "43      J9TV  0.014794     None         0.0       North    21304.5   \n",
       "58      KF4K  0.013345     None         0.0          NW    19719.0   \n",
       "70      KB7C  0.011959     None         0.0        Flat    14864.2   \n",
       "66      KF09  0.008471     None         0.0        East    10912.8   \n",
       "\n",
       "      CntrlDate                                           Comments Complex  \\\n",
       "32   2016-07-12   Digitized from Landsat 8 image collected 8/16/16    None   \n",
       "71   2016-09-29  Portions of the perimeter updated using Landsa...    None   \n",
       "145  2016-09-22   Digitized from Landsat 8 image collected 8/16/16    None   \n",
       "74   2016-09-22   Digitized from Landsat 8 image collected 8/16/16    None   \n",
       "12   2016-09-22  Digitized using Landsat 8 image collected 8/16/16    None   \n",
       "123  2016-09-29  Original perimeter updated using Landsat 8 fro...    None   \n",
       "43   2016-08-21      Digitized from Landsat 8 image collected 6/27    None   \n",
       "58         None                        Perimeter submitted by NPS.    None   \n",
       "70   2016-09-29  Portions of the perimeter updated using Landsa...    None   \n",
       "66   2016-08-21         Perimeter updated using Landsat 8 imagery.    None   \n",
       "\n",
       "    DOFFire#                        ...                             Source  \\\n",
       "32    631399                        ...                          Digitized   \n",
       "71    632325                        ...                          Digitized   \n",
       "145   631337                        ...                          Digitized   \n",
       "74    632226                        ...                          Digitized   \n",
       "12    631320                        ...                          Digitized   \n",
       "123   631386                        ...                          Digitized   \n",
       "43    632235                        ...                          Digitized   \n",
       "58    614521                        ...                                GPS   \n",
       "70    631326                        ...                          Digitized   \n",
       "66      None                        ...                          Digitized   \n",
       "\n",
       "     SpecCause              SrcClass   SrcMethod  StrBurned  StrThreat  \\\n",
       "32   Lightning  B - Within 90 Meters       Image          0          0   \n",
       "71   Lightning                  None       Image          0          0   \n",
       "145  Lightning  B - Within 90 Meters       Image          0          0   \n",
       "74   Lightning  B - Within 90 Meters       Image          0          1   \n",
       "12   Lightning  B - Within 90 Meters       Image          0          3   \n",
       "123  Lightning                  None       Image          0          0   \n",
       "43   Lightning  B - Within 90 Meters       Image          0          0   \n",
       "58   Lightning                  None  Helicopter          0          0   \n",
       "70   Lightning                  None       Image          0          0   \n",
       "66   Lightning                  None       Image          0          0   \n",
       "\n",
       "     USFSFire# VIIRSIcoun cleanedID  \\\n",
       "32        None       1323      KD94   \n",
       "71      PDKB69        993      KB69   \n",
       "145       None       1007      KB76   \n",
       "74      PDJ9R3        152      J9R3   \n",
       "12      PDKB51        983      KB51   \n",
       "123     PDKC93        596      KC93   \n",
       "43      PDJ9TV        329      J9TV   \n",
       "58      PNKF4K       1240      KF4K   \n",
       "70      PDKB7C        232      KB7C   \n",
       "66        None        203      KF09   \n",
       "\n",
       "                                              geometry  \n",
       "32   POLYGON ((1221.001382690641 1847941.319830814,...  \n",
       "71   POLYGON ((-73643.23357015298 1779075.461607415...  \n",
       "145  POLYGON ((11909.08875179134 1876762.4853593, 1...  \n",
       "74   POLYGON ((39182.21833742519 1616190.144272745,...  \n",
       "12   POLYGON ((63177.72295097367 1912038.850102146,...  \n",
       "123  (POLYGON ((-71595.44157561524 1907172.09862933...  \n",
       "43   POLYGON ((-378851.4657811324 1366614.111643162...  \n",
       "58   POLYGON ((571351.8192627283 1304384.556262721,...  \n",
       "70   POLYGON ((-76461.19148721524 1800471.634490524...  \n",
       "66   POLYGON ((-200773.0053468661 1706191.38626414,...  \n",
       "\n",
       "[10 rows x 57 columns]"
      ]
     },
     "execution_count": 17,
     "metadata": {},
     "output_type": "execute_result"
    }
   ],
   "source": [
    "cleanedfireperimDF.sort_values(by=\"CalcAcres\", ascending=False).head(n=10)"
   ]
  },
  {
   "cell_type": "code",
   "execution_count": 18,
   "metadata": {
    "collapsed": false
   },
   "outputs": [
    {
     "data": {
      "text/plain": [
       "u'2016-12-31'"
      ]
     },
     "execution_count": 18,
     "metadata": {},
     "output_type": "execute_result"
    }
   ],
   "source": [
    "cleanedfireperimDF['OutDate'].max()"
   ]
  },
  {
   "cell_type": "code",
   "execution_count": 19,
   "metadata": {
    "collapsed": false
   },
   "outputs": [
    {
     "data": {
      "text/plain": [
       "u'2016-04-07'"
      ]
     },
     "execution_count": 19,
     "metadata": {},
     "output_type": "execute_result"
    }
   ],
   "source": [
    "cleanedfireperimDF['DiscDate'].min()"
   ]
  },
  {
   "cell_type": "code",
   "execution_count": 20,
   "metadata": {
    "collapsed": false
   },
   "outputs": [
    {
     "data": {
      "text/plain": [
       "u'2016-10-15'"
      ]
     },
     "execution_count": 20,
     "metadata": {},
     "output_type": "execute_result"
    }
   ],
   "source": [
    "cleanedfireperimDF['DiscDate'].max()"
   ]
  },
  {
   "cell_type": "code",
   "execution_count": 21,
   "metadata": {
    "collapsed": false
   },
   "outputs": [
    {
     "data": {
      "text/plain": [
       "(11091, 19)"
      ]
     },
     "execution_count": 21,
     "metadata": {},
     "output_type": "execute_result"
    }
   ],
   "source": [
    "viirsIDF.shape"
   ]
  },
  {
   "cell_type": "code",
   "execution_count": 22,
   "metadata": {
    "collapsed": false
   },
   "outputs": [
    {
     "data": {
      "text/plain": [
       "u'2016-01-11'"
      ]
     },
     "execution_count": 22,
     "metadata": {},
     "output_type": "execute_result"
    }
   ],
   "source": [
    "viirsIDF['ACQ_DATE'].min()"
   ]
  },
  {
   "cell_type": "code",
   "execution_count": 23,
   "metadata": {
    "collapsed": false
   },
   "outputs": [
    {
     "data": {
      "text/plain": [
       "u'2016-10-31'"
      ]
     },
     "execution_count": 23,
     "metadata": {},
     "output_type": "execute_result"
    }
   ],
   "source": [
    "viirsIDF['ACQ_DATE'].max()"
   ]
  },
  {
   "cell_type": "code",
   "execution_count": 24,
   "metadata": {
    "collapsed": false
   },
   "outputs": [
    {
     "data": {
      "text/plain": [
       "-141.08199999999999"
      ]
     },
     "execution_count": 24,
     "metadata": {},
     "output_type": "execute_result"
    }
   ],
   "source": [
    "viirsIDF['LONGITUDE'].max()"
   ]
  },
  {
   "cell_type": "code",
   "execution_count": 25,
   "metadata": {
    "collapsed": false
   },
   "outputs": [
    {
     "data": {
      "text/plain": [
       "0          Digitized from Landsat 8 image collected 6/21\n",
       "1                    Photo rectification; SWS zone staff\n",
       "2                        Perimeter submitted by DOF GIS.\n",
       "3                                                   None\n",
       "4                      Perimeter submitted by GAD staff.\n",
       "5                        Perimeter submitted by DOF GIS.\n",
       "6      Digitized from GAD zone reports and Landsat 8 ...\n",
       "7                        Perimeter submitted by DOF GIS.\n",
       "8          Digitized from Landsat 8 image collected 7/15\n",
       "9                        Perimeter submitted by DOF GIS.\n",
       "10                  Digitized from MODIS and VIIRS data\u001a\n",
       "11                                 GPS'ed via helicopter\n",
       "12     Digitized using Landsat 8 image collected 8/16/16\n",
       "13      Digitized from Landsat 8 image collected 9/10/16\n",
       "14            Perimeter updated using Landsat 8 imagery.\n",
       "15     Perimeter digitized using Landsat 8 imagery fr...\n",
       "16                                            Helicopter\n",
       "17                                                  None\n",
       "18                                                  None\n",
       "19                                 Submitted by DOF GIS.\n",
       "20      Digitized from Landsat 8 image collected 8/17/16\n",
       "21         Digitized from Landsat 8 image collected 7/16\n",
       "22       Digitized from Landsat 8 image collected 8/3/16\n",
       "23                       Perimeter submitted by DOF GIS.\n",
       "24                       Perimeter submitted by DOF GIS.\n",
       "25                       Perimeter submitted by DOF GIS.\n",
       "26                     Perimeter submitted by GAD staff.\n",
       "27                       Perimeter submitted by DOF GIS.\n",
       "28       Digitized from Landsat 8 image collected 9/8/16\n",
       "29                                                  None\n",
       "                             ...                        \n",
       "125     Digitized from Landsat 8 image collected 7/31/16\n",
       "126        Digitized from Landsat 8 image collected 6/29\n",
       "127         Perimeter digitized using Landsat 8 imagery.\n",
       "128                                                 None\n",
       "129                       Perimeter GPS'ed by AFS Staff.\n",
       "130                                                 None\n",
       "131    Digitized from aerial detection flight on 05/1...\n",
       "132                  GPSed by Pitts, uploaded by Stoeber\n",
       "133                      Perimeter submitted by DOF GIS.\n",
       "134        Digitized from Landsat 8 image collected 7/14\n",
       "135                      Perimeter submitted by DOF GIS.\n",
       "136                      Perimeter submitted by DOF GIS.\n",
       "137    Digitized from Landsat 8 image collected 10/15/16\n",
       "138                    Perimeter submitted by GAD staff.\n",
       "139                  Photo rectification; SWS zone staff\n",
       "140                      Perimeter submitted by DOF GIS.\n",
       "141                  Photo rectification; SWS zone staff\n",
       "142                      Perimeter submitted by DOF GIS.\n",
       "143    Perimeter updated using Landsat 8 imagery from...\n",
       "144         Overlap with Fire 209 - Berry Creek removed.\n",
       "145     Digitized from Landsat 8 image collected 8/16/16\n",
       "146           Perimeter updated using Landsat 7 imagery.\n",
       "147        Digitized from Landsat 8 image collected 7/15\n",
       "148        Digitized from Landsat 8 image collected 7/15\n",
       "149     Digitized from Landsat 8 image collected 7/31/16\n",
       "150                   Collected by TAD staff on 1CV 7/17\n",
       "151                       Perimeter submitted by AK IMT.\n",
       "152                                                 None\n",
       "153                      Perimeter submitted by DOF GIS.\n",
       "154                   Digitized from aerial observation.\n",
       "Name: Comments, dtype: object"
      ]
     },
     "execution_count": 25,
     "metadata": {},
     "output_type": "execute_result"
    }
   ],
   "source": [
    "cleanedfireperimDF['Comments']"
   ]
  },
  {
   "cell_type": "code",
   "execution_count": 26,
   "metadata": {
    "collapsed": false
   },
   "outputs": [
    {
     "data": {
      "text/plain": [
       "66"
      ]
     },
     "execution_count": 26,
     "metadata": {},
     "output_type": "execute_result"
    }
   ],
   "source": [
    "cleanedfireperimDF['Comments'].str.contains('Landsat', case=False).sum()"
   ]
  },
  {
   "cell_type": "code",
   "execution_count": 27,
   "metadata": {
    "collapsed": false
   },
   "outputs": [
    {
     "data": {
      "text/plain": [
       "33"
      ]
     },
     "execution_count": 27,
     "metadata": {},
     "output_type": "execute_result"
    }
   ],
   "source": [
    "cleanedfireperimDF['Comments'].str.contains('DOF', case=False).sum()"
   ]
  },
  {
   "cell_type": "code",
   "execution_count": 28,
   "metadata": {
    "collapsed": false
   },
   "outputs": [
    {
     "data": {
      "text/plain": [
       "12"
      ]
     },
     "execution_count": 28,
     "metadata": {},
     "output_type": "execute_result"
    }
   ],
   "source": [
    "(cleanedfireperimDF['Comments'].str.contains('aerial', case=False) | \n",
    " cleanedfireperimDF['Comments'].str.contains('helicopter', case=False)).sum()"
   ]
  },
  {
   "cell_type": "code",
   "execution_count": 29,
   "metadata": {
    "collapsed": false
   },
   "outputs": [
    {
     "data": {
      "text/plain": [
       "13"
      ]
     },
     "execution_count": 29,
     "metadata": {},
     "output_type": "execute_result"
    }
   ],
   "source": [
    "cleanedfireperimDF['Comments'].isnull().sum()"
   ]
  },
  {
   "cell_type": "code",
   "execution_count": 30,
   "metadata": {
    "collapsed": false
   },
   "outputs": [
    {
     "data": {
      "text/plain": [
       "(3769, 18)"
      ]
     },
     "execution_count": 30,
     "metadata": {},
     "output_type": "execute_result"
    }
   ],
   "source": [
    "mod14DF.shape"
   ]
  },
  {
   "cell_type": "code",
   "execution_count": 31,
   "metadata": {
    "collapsed": false
   },
   "outputs": [
    {
     "data": {
      "text/plain": [
       "u'2016-03-28'"
      ]
     },
     "execution_count": 31,
     "metadata": {},
     "output_type": "execute_result"
    }
   ],
   "source": [
    "mod14DF['ACQ_DATE'].min()"
   ]
  },
  {
   "cell_type": "code",
   "execution_count": 32,
   "metadata": {
    "collapsed": false
   },
   "outputs": [
    {
     "data": {
      "text/plain": [
       "u'2016-10-12'"
      ]
     },
     "execution_count": 32,
     "metadata": {},
     "output_type": "execute_result"
    }
   ],
   "source": [
    "mod14DF['ACQ_DATE'].max()"
   ]
  },
  {
   "cell_type": "code",
   "execution_count": 33,
   "metadata": {
    "collapsed": false
   },
   "outputs": [
    {
     "data": {
      "text/plain": [
       "Index([u'5kmfireper',   u'ACQ_DATE',   u'ACQ_TIME', u'BRIGHT_TI4',\n",
       "       u'BRIGHT_TI5', u'CONFIDENCE',   u'DAYNIGHT',        u'FRP',\n",
       "       u'INSTRUMENT',   u'LATITUDE',  u'LONGITUDE',  u'SATELLITE',\n",
       "             u'SCAN',      u'TRACK',    u'VERSION',   u'geometry',\n",
       "       u'infireperi',          u'x',          u'y'],\n",
       "      dtype='object')"
      ]
     },
     "execution_count": 33,
     "metadata": {},
     "output_type": "execute_result"
    }
   ],
   "source": [
    "viirsIDF.columns"
   ]
  },
  {
   "cell_type": "code",
   "execution_count": 34,
   "metadata": {
    "collapsed": true
   },
   "outputs": [],
   "source": [
    "lateviirs = viirsIDF[viirsIDF['ACQ_DATE'] > '2016-09-31']"
   ]
  },
  {
   "cell_type": "code",
   "execution_count": 35,
   "metadata": {
    "collapsed": true
   },
   "outputs": [],
   "source": [
    "latemodis = mod14DF[mod14DF['ACQ_DATE'] > '2016-09-30']"
   ]
  },
  {
   "cell_type": "code",
   "execution_count": 36,
   "metadata": {
    "collapsed": true
   },
   "outputs": [],
   "source": [
    "earlyviirs = viirsIDF[viirsIDF['ACQ_DATE'] < '2016-04-01']"
   ]
  },
  {
   "cell_type": "code",
   "execution_count": 37,
   "metadata": {
    "collapsed": true
   },
   "outputs": [],
   "source": [
    "earlymodis = mod14DF[mod14DF['ACQ_DATE'] < '2016-04-01']"
   ]
  },
  {
   "cell_type": "code",
   "execution_count": 38,
   "metadata": {
    "collapsed": true
   },
   "outputs": [],
   "source": [
    "offviirs = viirsIDF[viirsIDF['infireperi'] == 0]"
   ]
  },
  {
   "cell_type": "code",
   "execution_count": 39,
   "metadata": {
    "collapsed": true
   },
   "outputs": [],
   "source": [
    "offmodis = mod14DF[mod14DF['infireperi'] == 0]"
   ]
  },
  {
   "cell_type": "code",
   "execution_count": 40,
   "metadata": {
    "collapsed": true
   },
   "outputs": [],
   "source": [
    "viirs_5km = viirsIDF[viirsIDF['5kmfireper'] == 1]"
   ]
  },
  {
   "cell_type": "code",
   "execution_count": 41,
   "metadata": {
    "collapsed": true
   },
   "outputs": [],
   "source": [
    "modis_5km = mod14DF[mod14DF['5kmfireper'] == 1]"
   ]
  },
  {
   "cell_type": "code",
   "execution_count": 42,
   "metadata": {
    "collapsed": true
   },
   "outputs": [],
   "source": [
    "viirsaleut = viirsIDF[(viirsIDF['LATITUDE'] < 58.0)\n",
    "                     & (viirsIDF['LONGITUDE'] < -158.0)]"
   ]
  },
  {
   "cell_type": "code",
   "execution_count": 43,
   "metadata": {
    "collapsed": true
   },
   "outputs": [],
   "source": [
    "modaleut = mod14DF[(mod14DF['LATITUDE'] < 58.0)\n",
    "                     & (mod14DF['LONGITUDE'] < -158.0)]"
   ]
  },
  {
   "cell_type": "code",
   "execution_count": 44,
   "metadata": {
    "collapsed": true
   },
   "outputs": [],
   "source": [
    "viirsprudhoe = viirsIDF[(viirsIDF['LATITUDE'] > 70.0)\n",
    "                     & (viirsIDF['LONGITUDE'] < -148.0)\n",
    "                     & (viirsIDF['LONGITUDE'] > -150.0)]\n",
    "modisprudhoe = mod14DF[(mod14DF['LATITUDE'] > 70.0)\n",
    "                     & (mod14DF['LONGITUDE'] < -148.0)\n",
    "                     & (mod14DF['LONGITUDE'] > -150.0)]"
   ]
  },
  {
   "cell_type": "code",
   "execution_count": 45,
   "metadata": {
    "collapsed": true
   },
   "outputs": [],
   "source": [
    "viirsnotclose = viirsIDF[\n",
    "        (viirsIDF['infireperi'] == 0) & \n",
    "        (viirsIDF['5kmfireper'] == 0)]"
   ]
  },
  {
   "cell_type": "code",
   "execution_count": 46,
   "metadata": {
    "collapsed": true
   },
   "outputs": [],
   "source": [
    "modnotclose = mod14DF[\n",
    "        (mod14DF['infireperi'] == 0) & \n",
    "        (mod14DF['5kmfireper'] == 0)]"
   ]
  },
  {
   "cell_type": "code",
   "execution_count": 47,
   "metadata": {
    "collapsed": false
   },
   "outputs": [
    {
     "data": {
      "text/plain": [
       "76"
      ]
     },
     "execution_count": 47,
     "metadata": {},
     "output_type": "execute_result"
    }
   ],
   "source": [
    "len(modnotclose)"
   ]
  },
  {
   "cell_type": "code",
   "execution_count": 48,
   "metadata": {
    "collapsed": false
   },
   "outputs": [
    {
     "data": {
      "text/plain": [
       "(154, 19)"
      ]
     },
     "execution_count": 48,
     "metadata": {},
     "output_type": "execute_result"
    }
   ],
   "source": [
    "earlyviirs.shape"
   ]
  },
  {
   "cell_type": "code",
   "execution_count": 49,
   "metadata": {
    "collapsed": false
   },
   "outputs": [
    {
     "data": {
      "text/plain": [
       "(13, 18)"
      ]
     },
     "execution_count": 49,
     "metadata": {},
     "output_type": "execute_result"
    }
   ],
   "source": [
    "earlymodis.shape"
   ]
  },
  {
   "cell_type": "code",
   "execution_count": 50,
   "metadata": {
    "collapsed": false
   },
   "outputs": [
    {
     "data": {
      "text/plain": [
       "(213, 19)"
      ]
     },
     "execution_count": 50,
     "metadata": {},
     "output_type": "execute_result"
    }
   ],
   "source": [
    "viirsaleut.shape"
   ]
  },
  {
   "cell_type": "code",
   "execution_count": 51,
   "metadata": {
    "collapsed": false
   },
   "outputs": [
    {
     "data": {
      "text/plain": [
       "(13, 18)"
      ]
     },
     "execution_count": 51,
     "metadata": {},
     "output_type": "execute_result"
    }
   ],
   "source": [
    "modaleut.shape"
   ]
  },
  {
   "cell_type": "code",
   "execution_count": 52,
   "metadata": {
    "collapsed": false
   },
   "outputs": [
    {
     "data": {
      "text/plain": [
       "(215, 19)"
      ]
     },
     "execution_count": 52,
     "metadata": {},
     "output_type": "execute_result"
    }
   ],
   "source": [
    "viirsprudhoe.shape"
   ]
  },
  {
   "cell_type": "code",
   "execution_count": 53,
   "metadata": {
    "collapsed": false
   },
   "outputs": [
    {
     "data": {
      "text/plain": [
       "(0, 18)"
      ]
     },
     "execution_count": 53,
     "metadata": {},
     "output_type": "execute_result"
    }
   ],
   "source": [
    "modisprudhoe.shape"
   ]
  },
  {
   "cell_type": "code",
   "execution_count": 54,
   "metadata": {
    "collapsed": false
   },
   "outputs": [
    {
     "data": {
      "text/plain": [
       "(139, 18)"
      ]
     },
     "execution_count": 54,
     "metadata": {},
     "output_type": "execute_result"
    }
   ],
   "source": [
    "offmodis.shape"
   ]
  },
  {
   "cell_type": "code",
   "execution_count": 55,
   "metadata": {
    "collapsed": false
   },
   "outputs": [
    {
     "data": {
      "text/plain": [
       "(652, 19)"
      ]
     },
     "execution_count": 55,
     "metadata": {},
     "output_type": "execute_result"
    }
   ],
   "source": [
    "offviirs.shape"
   ]
  },
  {
   "cell_type": "code",
   "execution_count": 56,
   "metadata": {
    "collapsed": false
   },
   "outputs": [
    {
     "data": {
      "text/plain": [
       "(85, 19)"
      ]
     },
     "execution_count": 56,
     "metadata": {},
     "output_type": "execute_result"
    }
   ],
   "source": [
    "viirs_5km.shape"
   ]
  },
  {
   "cell_type": "code",
   "execution_count": 57,
   "metadata": {
    "collapsed": false
   },
   "outputs": [
    {
     "data": {
      "text/plain": [
       "(63, 18)"
      ]
     },
     "execution_count": 57,
     "metadata": {},
     "output_type": "execute_result"
    }
   ],
   "source": [
    "modis_5km.shape"
   ]
  },
  {
   "cell_type": "code",
   "execution_count": 58,
   "metadata": {
    "collapsed": false
   },
   "outputs": [
    {
     "data": {
      "text/plain": [
       "(11091, 19)"
      ]
     },
     "execution_count": 58,
     "metadata": {},
     "output_type": "execute_result"
    }
   ],
   "source": [
    "viirsIDF.shape"
   ]
  },
  {
   "cell_type": "code",
   "execution_count": 59,
   "metadata": {
    "collapsed": false
   },
   "outputs": [
    {
     "data": {
      "text/plain": [
       "(3769, 18)"
      ]
     },
     "execution_count": 59,
     "metadata": {},
     "output_type": "execute_result"
    }
   ],
   "source": [
    "mod14DF.shape"
   ]
  },
  {
   "cell_type": "code",
   "execution_count": 60,
   "metadata": {
    "collapsed": false
   },
   "outputs": [
    {
     "data": {
      "text/plain": [
       "85"
      ]
     },
     "execution_count": 60,
     "metadata": {},
     "output_type": "execute_result"
    }
   ],
   "source": [
    "len(viirsIDF[\n",
    "        (viirsIDF['infireperi'] == 0) & \n",
    "        (viirsIDF['5kmfireper'] == 1)])"
   ]
  },
  {
   "cell_type": "code",
   "execution_count": 61,
   "metadata": {
    "collapsed": false
   },
   "outputs": [
    {
     "data": {
      "text/plain": [
       "85"
      ]
     },
     "execution_count": 61,
     "metadata": {},
     "output_type": "execute_result"
    }
   ],
   "source": [
    "len(viirsIDF[\n",
    "        (viirsIDF['infireperi'] == 0) & \n",
    "        (viirsIDF['5kmfireper'] == 1)])"
   ]
  },
  {
   "cell_type": "code",
   "execution_count": 62,
   "metadata": {
    "collapsed": false
   },
   "outputs": [
    {
     "data": {
      "text/plain": [
       "infireperi  5kmfireper\n",
       "0           0               76\n",
       "            1               63\n",
       "1           0             3630\n",
       "dtype: int64"
      ]
     },
     "execution_count": 62,
     "metadata": {},
     "output_type": "execute_result"
    }
   ],
   "source": [
    "mod14DF.groupby(['infireperi', '5kmfireper']).size()"
   ]
  },
  {
   "cell_type": "code",
   "execution_count": 63,
   "metadata": {
    "collapsed": false
   },
   "outputs": [
    {
     "data": {
      "text/plain": [
       "infireperi  5kmfireper\n",
       "0           0               567\n",
       "            1                85\n",
       "1           0             10439\n",
       "dtype: int64"
      ]
     },
     "execution_count": 63,
     "metadata": {},
     "output_type": "execute_result"
    }
   ],
   "source": [
    "viirsIDF.groupby(['infireperi', '5kmfireper']).size()"
   ]
  },
  {
   "cell_type": "markdown",
   "metadata": {},
   "source": [
    "###### How many fires were not detected? Further data inspection"
   ]
  },
  {
   "cell_type": "code",
   "execution_count": 64,
   "metadata": {
    "collapsed": false
   },
   "outputs": [
    {
     "name": "stdout",
     "output_type": "stream",
     "text": [
      "Number of undetected fires by MODIS: 70\n",
      "Percentage of undetected fires: 45.16\n",
      "Acreage of largest undetected fire: 817.8\n"
     ]
    }
   ],
   "source": [
    "print(\"Number of undetected fires by MODIS: {}\".format(sum(cleanedfireperimDF.MOD14count == 0)))\n",
    "print((\"Percentage of undetected fires: {:.2f}\".format(100*sum(cleanedfireperimDF.MOD14count == 0)/len(cleanedfireperimDF))))\n",
    "print((\"Acreage of largest undetected fire: {}\".format(max(cleanedfireperimDF.CalcAcres[cleanedfireperimDF.MOD14count == 0]))))"
   ]
  },
  {
   "cell_type": "code",
   "execution_count": 65,
   "metadata": {
    "collapsed": false
   },
   "outputs": [
    {
     "name": "stdout",
     "output_type": "stream",
     "text": [
      "Number of fires not detected by MODIS Terra: 76\n",
      "Percentage of fires not detected by MODIS Terra: 49.03\n",
      "Number of fires not detected by MODIS Aqua: 76\n",
      "Percentage of fires not detected by MODIS Aqua: 49.03\n"
     ]
    }
   ],
   "source": [
    "print(\"Number of fires not detected by MODIS Terra: {}\".format(sum(cleanedfireperimDF.MOD14Tcoun == 0)))\n",
    "print((\"Percentage of fires not detected by MODIS Terra: {:.2f}\".format(100*sum(cleanedfireperimDF.MOD14Tcoun == 0)/len(cleanedfireperimDF))))\n",
    "print(\"Number of fires not detected by MODIS Aqua: {}\".format(sum(cleanedfireperimDF.MOD14Acoun == 0)))\n",
    "print((\"Percentage of fires not detected by MODIS Aqua: {:.2f}\".format(100*sum(cleanedfireperimDF.MOD14Acoun == 0)/len(cleanedfireperimDF))))\n"
   ]
  },
  {
   "cell_type": "code",
   "execution_count": 66,
   "metadata": {
    "collapsed": false
   },
   "outputs": [
    {
     "data": {
      "text/plain": [
       "440"
      ]
     },
     "execution_count": 66,
     "metadata": {},
     "output_type": "execute_result"
    }
   ],
   "source": [
    "max(cleanedfireperimDF.MOD14count)"
   ]
  },
  {
   "cell_type": "code",
   "execution_count": 67,
   "metadata": {
    "collapsed": false
   },
   "outputs": [
    {
     "name": "stdout",
     "output_type": "stream",
     "text": [
      "Number of undetected fires: 55\n",
      "Percentage of undetected fires: 35.48\n",
      "Acreage of largest undetected fire: 484.9\n"
     ]
    }
   ],
   "source": [
    "print(\"Number of undetected fires: {}\".format(sum(cleanedfireperimDF.VIIRSIcoun == 0)))\n",
    "print((\"Percentage of undetected fires: {:.2f}\".format(100*sum(cleanedfireperimDF.VIIRSIcoun == 0)/len(cleanedfireperimDF))))\n",
    "print((\"Acreage of largest undetected fire: {}\".format(max(cleanedfireperimDF.CalcAcres[cleanedfireperimDF.VIIRSIcoun == 0]))))"
   ]
  },
  {
   "cell_type": "code",
   "execution_count": 68,
   "metadata": {
    "collapsed": false
   },
   "outputs": [
    {
     "data": {
      "text/plain": [
       "1323"
      ]
     },
     "execution_count": 68,
     "metadata": {},
     "output_type": "execute_result"
    }
   ],
   "source": [
    "max(cleanedfireperimDF.VIIRSIcoun)"
   ]
  },
  {
   "cell_type": "code",
   "execution_count": 69,
   "metadata": {
    "collapsed": false
   },
   "outputs": [
    {
     "data": {
      "text/plain": [
       "infireperi\n",
       "0     139\n",
       "1    3630\n",
       "dtype: int64"
      ]
     },
     "execution_count": 69,
     "metadata": {},
     "output_type": "execute_result"
    }
   ],
   "source": [
    "mod14DF.groupby('infireperi').size()"
   ]
  },
  {
   "cell_type": "code",
   "execution_count": 70,
   "metadata": {
    "collapsed": false
   },
   "outputs": [
    {
     "data": {
      "text/plain": [
       "1    3630\n",
       "0     139\n",
       "Name: infireperi, dtype: int64"
      ]
     },
     "execution_count": 70,
     "metadata": {},
     "output_type": "execute_result"
    }
   ],
   "source": [
    "mod14DF['infireperi'].value_counts()"
   ]
  },
  {
   "cell_type": "code",
   "execution_count": 71,
   "metadata": {
    "collapsed": false
   },
   "outputs": [
    {
     "data": {
      "text/plain": [
       "1    10439\n",
       "0      652\n",
       "Name: infireperi, dtype: int64"
      ]
     },
     "execution_count": 71,
     "metadata": {},
     "output_type": "execute_result"
    }
   ],
   "source": [
    "viirsIDF['infireperi'].value_counts()"
   ]
  },
  {
   "cell_type": "code",
   "execution_count": 72,
   "metadata": {
    "collapsed": false
   },
   "outputs": [
    {
     "data": {
      "text/plain": [
       "count     55.000000\n",
       "mean      72.187273\n",
       "std      110.343833\n",
       "min        0.500000\n",
       "25%       12.350000\n",
       "50%       27.500000\n",
       "75%       82.000000\n",
       "max      484.900000\n",
       "Name: CalcAcres, dtype: float64"
      ]
     },
     "execution_count": 72,
     "metadata": {},
     "output_type": "execute_result"
    }
   ],
   "source": [
    "cleanedfireperimDF[cleanedfireperimDF.VIIRSIcoun == 0]['CalcAcres'].describe()"
   ]
  },
  {
   "cell_type": "code",
   "execution_count": 73,
   "metadata": {
    "collapsed": false
   },
   "outputs": [
    {
     "data": {
      "text/plain": [
       "count      100.000000\n",
       "mean      4915.298000\n",
       "std      11662.834741\n",
       "min         20.300000\n",
       "25%        198.550000\n",
       "50%        867.250000\n",
       "75%       3090.700000\n",
       "max      58565.300000\n",
       "Name: CalcAcres, dtype: float64"
      ]
     },
     "execution_count": 73,
     "metadata": {},
     "output_type": "execute_result"
    }
   ],
   "source": [
    "cleanedfireperimDF[cleanedfireperimDF.VIIRSIcoun > 0]['CalcAcres'].describe()"
   ]
  },
  {
   "cell_type": "code",
   "execution_count": 74,
   "metadata": {
    "collapsed": false
   },
   "outputs": [
    {
     "data": {
      "text/plain": [
       "count      76.000000\n",
       "mean      144.610526\n",
       "std       264.693443\n",
       "min         0.500000\n",
       "25%        16.300000\n",
       "50%        52.050000\n",
       "75%       144.275000\n",
       "max      1676.600000\n",
       "Name: CalcAcres, dtype: float64"
      ]
     },
     "execution_count": 74,
     "metadata": {},
     "output_type": "execute_result"
    }
   ],
   "source": [
    "cleanedfireperimDF[cleanedfireperimDF.MOD14Acoun == 0]['CalcAcres'].describe()"
   ]
  },
  {
   "cell_type": "code",
   "execution_count": 75,
   "metadata": {
    "collapsed": false
   },
   "outputs": [
    {
     "data": {
      "text/plain": [
       "count       79.000000\n",
       "mean      6133.034177\n",
       "std      12862.562786\n",
       "min          1.600000\n",
       "25%        526.900000\n",
       "50%       1110.000000\n",
       "75%       4167.200000\n",
       "max      58565.300000\n",
       "Name: CalcAcres, dtype: float64"
      ]
     },
     "execution_count": 75,
     "metadata": {},
     "output_type": "execute_result"
    }
   ],
   "source": [
    "cleanedfireperimDF[cleanedfireperimDF.MOD14Acoun > 0]['CalcAcres'].describe()"
   ]
  },
  {
   "cell_type": "code",
   "execution_count": 76,
   "metadata": {
    "collapsed": false
   },
   "outputs": [
    {
     "data": {
      "text/plain": [
       "count     70.000000\n",
       "mean      99.477143\n",
       "std      155.455274\n",
       "min        0.500000\n",
       "25%       15.325000\n",
       "50%       47.150000\n",
       "75%      109.250000\n",
       "max      817.800000\n",
       "Name: CalcAcres, dtype: float64"
      ]
     },
     "execution_count": 76,
     "metadata": {},
     "output_type": "execute_result"
    }
   ],
   "source": [
    "cleanedfireperimDF[cleanedfireperimDF.MOD14count == 0]['CalcAcres'].describe()"
   ]
  },
  {
   "cell_type": "code",
   "execution_count": 77,
   "metadata": {
    "collapsed": false
   },
   "outputs": [
    {
     "data": {
      "text/plain": [
       "count       85.000000\n",
       "mean      5747.490588\n",
       "std      12475.160550\n",
       "min          1.600000\n",
       "25%        442.800000\n",
       "50%       1088.400000\n",
       "75%       3733.300000\n",
       "max      58565.300000\n",
       "Name: CalcAcres, dtype: float64"
      ]
     },
     "execution_count": 77,
     "metadata": {},
     "output_type": "execute_result"
    }
   ],
   "source": [
    "cleanedfireperimDF[cleanedfireperimDF.MOD14count > 0]['CalcAcres'].describe()"
   ]
  },
  {
   "cell_type": "code",
   "execution_count": 78,
   "metadata": {
    "collapsed": false
   },
   "outputs": [
    {
     "data": {
      "text/html": [
       "<div>\n",
       "<table border=\"1\" class=\"dataframe\">\n",
       "  <thead>\n",
       "    <tr style=\"text-align: right;\">\n",
       "      <th></th>\n",
       "      <th>FireName</th>\n",
       "      <th>CalcAcres</th>\n",
       "      <th>PrimFuel</th>\n",
       "      <th>MgmOption</th>\n",
       "      <th>InitBehave</th>\n",
       "      <th>PerimDate</th>\n",
       "      <th>DiscDate</th>\n",
       "      <th>CntrlDate</th>\n",
       "      <th>OutDate</th>\n",
       "    </tr>\n",
       "  </thead>\n",
       "  <tbody>\n",
       "    <tr>\n",
       "      <th>32</th>\n",
       "      <td>Hog</td>\n",
       "      <td>58565.3</td>\n",
       "      <td>Black Spruce</td>\n",
       "      <td>Limited</td>\n",
       "      <td>Smoldering</td>\n",
       "      <td>2016-08-16</td>\n",
       "      <td>2016-07-05</td>\n",
       "      <td>2016-07-12</td>\n",
       "      <td>2016-09-22</td>\n",
       "    </tr>\n",
       "  </tbody>\n",
       "</table>\n",
       "</div>"
      ],
      "text/plain": [
       "   FireName  CalcAcres      PrimFuel MgmOption  InitBehave   PerimDate  \\\n",
       "32      Hog    58565.3  Black Spruce   Limited  Smoldering  2016-08-16   \n",
       "\n",
       "      DiscDate   CntrlDate     OutDate  \n",
       "32  2016-07-05  2016-07-12  2016-09-22  "
      ]
     },
     "execution_count": 78,
     "metadata": {},
     "output_type": "execute_result"
    }
   ],
   "source": [
    "cleanedfireperimDF[cleanedfireperimDF.MOD14count==max(cleanedfireperimDF.MOD14count)][maincols]"
   ]
  },
  {
   "cell_type": "code",
   "execution_count": 79,
   "metadata": {
    "collapsed": true
   },
   "outputs": [],
   "source": [
    "keepperimcols = list(cleanedfireperimDF.columns)\n",
    "keepperimcols.remove('geometry')"
   ]
  },
  {
   "cell_type": "code",
   "execution_count": 80,
   "metadata": {
    "collapsed": false
   },
   "outputs": [
    {
     "data": {
      "text/plain": [
       "Index([  u'AFSFire#',       u'AREA',   u'AddFire#', u'AgencyAcre',\n",
       "           u'Aspect',  u'CalcAcres',  u'CntrlDate',   u'Comments',\n",
       "          u'Complex',   u'DOFFire#',   u'DiscDate',   u'DiscSize',\n",
       "         u'EditDate',  u'Elevation',   u'EstAcres',    u'EstCost',\n",
       "           u'FIREID', u'FalseAlarm',      u'Final',   u'FireName',\n",
       "         u'FireYear',   u'GenCause',     u'IADate',     u'IASize',\n",
       "       u'InitBehave', u'LATESTPERI',        u'LEN',   u'Latitude',\n",
       "        u'Longitude', u'MOD14Acoun', u'MOD14Tcoun', u'MOD14count',\n",
       "          u'MapName',     u'Method',      u'MgmID',   u'MgmOffId',\n",
       "        u'MgmOption',  u'NearestWX',  u'OriginOwn', u'OriginUnit',\n",
       "          u'OutDate',  u'PerimDate',  u'PerimTime', u'Prescribed',\n",
       "         u'PrimFuel',    u'Record#',      u'Slope',     u'Source',\n",
       "        u'SpecCause',   u'SrcClass',  u'SrcMethod',  u'StrBurned',\n",
       "        u'StrThreat',  u'USFSFire#', u'VIIRSIcoun',  u'cleanedID',\n",
       "         u'geometry'],\n",
       "      dtype='object')"
      ]
     },
     "execution_count": 80,
     "metadata": {},
     "output_type": "execute_result"
    }
   ],
   "source": [
    "cleanedfireperimDF.columns"
   ]
  },
  {
   "cell_type": "code",
   "execution_count": 81,
   "metadata": {
    "collapsed": true
   },
   "outputs": [],
   "source": [
    "cleanedfireperimDF_forstats = cleanedfireperimDF[keepperimcols].copy()"
   ]
  },
  {
   "cell_type": "code",
   "execution_count": 82,
   "metadata": {
    "collapsed": true
   },
   "outputs": [],
   "source": [
    "cleanedfireperimDF['fireduration'] = cleanedfireperimDF.apply(\n",
    "    lambda row: (dt.datetime.strptime(row.OutDate, \"%Y-%m-%d\") - dt.datetime.strptime(row.DiscDate, \"%Y-%m-%d\")).days, \n",
    "    axis=1)"
   ]
  },
  {
   "cell_type": "code",
   "execution_count": 83,
   "metadata": {
    "collapsed": false
   },
   "outputs": [
    {
     "data": {
      "text/plain": [
       "46.22352941176471"
      ]
     },
     "execution_count": 83,
     "metadata": {},
     "output_type": "execute_result"
    }
   ],
   "source": [
    "cleanedfireperimDF[cleanedfireperimDF['MOD14count'] > 0]['fireduration'].mean()"
   ]
  },
  {
   "cell_type": "code",
   "execution_count": 84,
   "metadata": {
    "collapsed": false
   },
   "outputs": [
    {
     "data": {
      "text/plain": [
       "MgmOption\n",
       "Critical     5.666667\n",
       "Full        14.000000\n",
       "Limited     28.151515\n",
       "Modified    20.916667\n",
       "Name: MOD14count, dtype: float64"
      ]
     },
     "execution_count": 84,
     "metadata": {},
     "output_type": "execute_result"
    }
   ],
   "source": [
    "cleanedfireperimDF.groupby([\"MgmOption\"])[\"MOD14count\"].mean()"
   ]
  },
  {
   "cell_type": "code",
   "execution_count": 85,
   "metadata": {
    "collapsed": false
   },
   "outputs": [
    {
     "data": {
      "text/plain": [
       "MgmOption\n",
       "Critical     369.133333\n",
       "Full        1783.027586\n",
       "Limited     3738.087879\n",
       "Modified    3025.591667\n",
       "Name: CalcAcres, dtype: float64"
      ]
     },
     "execution_count": 85,
     "metadata": {},
     "output_type": "execute_result"
    }
   ],
   "source": [
    "cleanedfireperimDF.groupby([\"MgmOption\"])[\"CalcAcres\"].mean()"
   ]
  },
  {
   "cell_type": "markdown",
   "metadata": {},
   "source": [
    "## Preparing for further data analysis"
   ]
  },
  {
   "cell_type": "markdown",
   "metadata": {},
   "source": [
    "Let's make a column that indicates black spruce vs. non black spruce fueled fires."
   ]
  },
  {
   "cell_type": "code",
   "execution_count": 86,
   "metadata": {
    "collapsed": true
   },
   "outputs": [],
   "source": [
    "cleanedfireperimDF['blacksprucefire'] = cleanedfireperimDF['PrimFuel'] == \"Black Spruce\""
   ]
  },
  {
   "cell_type": "markdown",
   "metadata": {},
   "source": [
    "## Data inspection for badly detected fires etc."
   ]
  },
  {
   "cell_type": "code",
   "execution_count": 87,
   "metadata": {
    "collapsed": true
   },
   "outputs": [],
   "source": [
    "displayperimcols = maincols + [u'VIIRSIcoun', u'MOD14count']"
   ]
  },
  {
   "cell_type": "code",
   "execution_count": 88,
   "metadata": {
    "collapsed": false
   },
   "outputs": [
    {
     "data": {
      "text/plain": [
       "Index([       u'AFSFire#',            u'AREA',        u'AddFire#',\n",
       "            u'AgencyAcre',          u'Aspect',       u'CalcAcres',\n",
       "             u'CntrlDate',        u'Comments',         u'Complex',\n",
       "              u'DOFFire#',        u'DiscDate',        u'DiscSize',\n",
       "              u'EditDate',       u'Elevation',        u'EstAcres',\n",
       "               u'EstCost',          u'FIREID',      u'FalseAlarm',\n",
       "                 u'Final',        u'FireName',        u'FireYear',\n",
       "              u'GenCause',          u'IADate',          u'IASize',\n",
       "            u'InitBehave',      u'LATESTPERI',             u'LEN',\n",
       "              u'Latitude',       u'Longitude',      u'MOD14Acoun',\n",
       "            u'MOD14Tcoun',      u'MOD14count',         u'MapName',\n",
       "                u'Method',           u'MgmID',        u'MgmOffId',\n",
       "             u'MgmOption',       u'NearestWX',       u'OriginOwn',\n",
       "            u'OriginUnit',         u'OutDate',       u'PerimDate',\n",
       "             u'PerimTime',      u'Prescribed',        u'PrimFuel',\n",
       "               u'Record#',           u'Slope',          u'Source',\n",
       "             u'SpecCause',        u'SrcClass',       u'SrcMethod',\n",
       "             u'StrBurned',       u'StrThreat',       u'USFSFire#',\n",
       "            u'VIIRSIcoun',       u'cleanedID',        u'geometry',\n",
       "          u'fireduration', u'blacksprucefire'],\n",
       "      dtype='object')"
      ]
     },
     "execution_count": 88,
     "metadata": {},
     "output_type": "execute_result"
    }
   ],
   "source": [
    "cleanedfireperimDF.columns"
   ]
  },
  {
   "cell_type": "code",
   "execution_count": 89,
   "metadata": {
    "collapsed": true
   },
   "outputs": [],
   "source": [
    "cleanedfireperimDF['Hectares'] = cleanedfireperimDF['CalcAcres'] / 2.47105\n",
    "cleanedfireperimDF['sqkm'] = cleanedfireperimDF['Hectares'] / 100"
   ]
  },
  {
   "cell_type": "markdown",
   "metadata": {},
   "source": [
    "### Statistics! "
   ]
  },
  {
   "cell_type": "code",
   "execution_count": 90,
   "metadata": {
    "collapsed": false
   },
   "outputs": [],
   "source": [
    "import numpy as np\n",
    "import statsmodels.formula.api as smf\n",
    "from pandas.tools.plotting import plot_frame"
   ]
  },
  {
   "cell_type": "markdown",
   "metadata": {},
   "source": [
    "Somehow Pandas-style plotting doesn't work on GeoPandas GeoDataFrames. Until I find a better solution, I'm makeing a copy that's just a regular dataframe:"
   ]
  },
  {
   "cell_type": "code",
   "execution_count": 91,
   "metadata": {
    "collapsed": false
   },
   "outputs": [
    {
     "data": {
      "text/plain": [
       "pandas.core.frame.DataFrame"
      ]
     },
     "execution_count": 91,
     "metadata": {},
     "output_type": "execute_result"
    }
   ],
   "source": [
    "keepperimcols = list(cleanedfireperimDF.columns)\n",
    "keepperimcols.remove('geometry')\n",
    "cleanedfireperimDF_forstats = cleanedfireperimDF[keepperimcols].copy()\n",
    "type(cleanedfireperimDF_forstats)"
   ]
  },
  {
   "cell_type": "code",
   "execution_count": 92,
   "metadata": {
    "collapsed": false
   },
   "outputs": [
    {
     "data": {
      "text/plain": [
       "count      155.000000\n",
       "mean      1293.690876\n",
       "std       3899.532680\n",
       "min          0.202343\n",
       "25%         17.624087\n",
       "50%         83.567714\n",
       "75%        486.392424\n",
       "max      23700.572631\n",
       "Name: Hectares, dtype: float64"
      ]
     },
     "execution_count": 92,
     "metadata": {},
     "output_type": "execute_result"
    }
   ],
   "source": [
    "cleanedfireperimDF['Hectares'].describe()"
   ]
  },
  {
   "cell_type": "code",
   "execution_count": 93,
   "metadata": {
    "collapsed": false
   },
   "outputs": [
    {
     "name": "stdout",
     "output_type": "stream",
     "text": [
      "                            OLS Regression Results                            \n",
      "==============================================================================\n",
      "Dep. Variable:             VIIRSIcoun   R-squared:                       0.961\n",
      "Model:                            OLS   Adj. R-squared:                  0.961\n",
      "Method:                 Least Squares   F-statistic:                     3781.\n",
      "Date:                Fri, 28 Jul 2017   Prob (F-statistic):          8.73e-110\n",
      "Time:                        23:35:25   Log-Likelihood:                -793.69\n",
      "No. Observations:                 155   AIC:                             1591.\n",
      "Df Residuals:                     153   BIC:                             1597.\n",
      "Df Model:                           1                                         \n",
      "Covariance Type:            nonrobust                                         \n",
      "==============================================================================\n",
      "                 coef    std err          t      P>|t|      [0.025      0.975]\n",
      "------------------------------------------------------------------------------\n",
      "Intercept     -1.9945      3.468     -0.575      0.566      -8.845       4.856\n",
      "MOD14count     2.9238      0.048     61.490      0.000       2.830       3.018\n",
      "==============================================================================\n",
      "Omnibus:                       45.663   Durbin-Watson:                   1.872\n",
      "Prob(Omnibus):                  0.000   Jarque-Bera (JB):             1088.668\n",
      "Skew:                          -0.042   Prob(JB):                    3.97e-237\n",
      "Kurtosis:                      15.983   Cond. No.                         77.2\n",
      "==============================================================================\n",
      "\n",
      "Warnings:\n",
      "[1] Standard Errors assume that the covariance matrix of the errors is correctly specified.\n",
      "                   0         1\n",
      "Intercept  -8.845026  4.856099\n",
      "MOD14count  2.829861  3.017736\n",
      "2.92379897545 -1.99446320551 0.96110865839\n"
     ]
    }
   ],
   "source": [
    "results = smf.ols('VIIRSIcoun ~ MOD14count', cleanedfireperimDF).fit()\n",
    "print(results.summary())\n",
    "intercept, slope = results.params\n",
    "r2 = results.rsquared\n",
    "print(results.conf_int())\n",
    "print(slope, intercept, r2)"
   ]
  },
  {
   "cell_type": "code",
   "execution_count": 94,
   "metadata": {
    "collapsed": false
   },
   "outputs": [
    {
     "name": "stdout",
     "output_type": "stream",
     "text": [
      "                            OLS Regression Results                            \n",
      "==============================================================================\n",
      "Dep. Variable:             MOD14count   R-squared:                       0.838\n",
      "Model:                            OLS   Adj. R-squared:                  0.837\n",
      "Method:                 Least Squares   F-statistic:                     792.8\n",
      "Date:                Fri, 28 Jul 2017   Prob (F-statistic):           2.13e-62\n",
      "Time:                        23:35:25   Log-Likelihood:                -734.79\n",
      "No. Observations:                 155   AIC:                             1474.\n",
      "Df Residuals:                     153   BIC:                             1480.\n",
      "Df Model:                           1                                         \n",
      "Covariance Type:            nonrobust                                         \n",
      "==============================================================================\n",
      "                 coef    std err          t      P>|t|      [0.025      0.975]\n",
      "------------------------------------------------------------------------------\n",
      "Intercept      2.9584      2.361      1.253      0.212      -1.705       7.622\n",
      "CalcAcres      0.0066      0.000     28.156      0.000       0.006       0.007\n",
      "==============================================================================\n",
      "Omnibus:                      101.958   Durbin-Watson:                   1.992\n",
      "Prob(Omnibus):                  0.000   Jarque-Bera (JB):             9684.296\n",
      "Skew:                           1.321   Prob(JB):                         0.00\n",
      "Kurtosis:                      41.633   Cond. No.                     1.07e+04\n",
      "==============================================================================\n",
      "\n",
      "Warnings:\n",
      "[1] Standard Errors assume that the covariance matrix of the errors is correctly specified.\n",
      "[2] The condition number is large, 1.07e+04. This might indicate that there are\n",
      "strong multicollinearity or other numerical problems.\n",
      "                  0         1\n",
      "Intercept -1.705301  7.622048\n",
      "CalcAcres  0.006105  0.007027\n",
      "0.00656599689416 2.95837343447 0.838225553578\n"
     ]
    }
   ],
   "source": [
    "results = smf.ols('MOD14count ~ CalcAcres', cleanedfireperimDF).fit()\n",
    "print(results.summary())\n",
    "intercept, slope = results.params\n",
    "r2 = results.rsquared\n",
    "print(results.conf_int())\n",
    "print(slope, intercept, r2)"
   ]
  },
  {
   "cell_type": "code",
   "execution_count": 95,
   "metadata": {
    "collapsed": false
   },
   "outputs": [
    {
     "name": "stdout",
     "output_type": "stream",
     "text": [
      "                            OLS Regression Results                            \n",
      "==============================================================================\n",
      "Dep. Variable:             MOD14count   R-squared:                       0.838\n",
      "Model:                            OLS   Adj. R-squared:                  0.837\n",
      "Method:                 Least Squares   F-statistic:                     792.8\n",
      "Date:                Fri, 28 Jul 2017   Prob (F-statistic):           2.13e-62\n",
      "Time:                        23:35:25   Log-Likelihood:                -734.79\n",
      "No. Observations:                 155   AIC:                             1474.\n",
      "Df Residuals:                     153   BIC:                             1480.\n",
      "Df Model:                           1                                         \n",
      "Covariance Type:            nonrobust                                         \n",
      "==============================================================================\n",
      "                 coef    std err          t      P>|t|      [0.025      0.975]\n",
      "------------------------------------------------------------------------------\n",
      "Intercept      2.9584      2.361      1.253      0.212      -1.705       7.622\n",
      "Hectares       0.0162      0.001     28.156      0.000       0.015       0.017\n",
      "==============================================================================\n",
      "Omnibus:                      101.958   Durbin-Watson:                   1.992\n",
      "Prob(Omnibus):                  0.000   Jarque-Bera (JB):             9684.296\n",
      "Skew:                           1.321   Prob(JB):                         0.00\n",
      "Kurtosis:                      41.633   Cond. No.                     4.32e+03\n",
      "==============================================================================\n",
      "\n",
      "Warnings:\n",
      "[1] Standard Errors assume that the covariance matrix of the errors is correctly specified.\n",
      "[2] The condition number is large, 4.32e+03. This might indicate that there are\n",
      "strong multicollinearity or other numerical problems.\n",
      "                  0         1\n",
      "Intercept -1.705301  7.622048\n",
      "Hectares   0.015086  0.017363\n",
      "0.0162249066253 2.95837343447 0.838225553578\n"
     ]
    }
   ],
   "source": [
    "results = smf.ols('MOD14count ~ Hectares', cleanedfireperimDF).fit()\n",
    "print(results.summary())\n",
    "intercept, slope = results.params\n",
    "r2 = results.rsquared\n",
    "print(results.conf_int())\n",
    "print(slope, intercept, r2)"
   ]
  },
  {
   "cell_type": "code",
   "execution_count": 96,
   "metadata": {
    "collapsed": false
   },
   "outputs": [
    {
     "name": "stdout",
     "output_type": "stream",
     "text": [
      "                            OLS Regression Results                            \n",
      "==============================================================================\n",
      "Dep. Variable:             MOD14count   R-squared:                       0.838\n",
      "Model:                            OLS   Adj. R-squared:                  0.837\n",
      "Method:                 Least Squares   F-statistic:                     792.8\n",
      "Date:                Fri, 28 Jul 2017   Prob (F-statistic):           2.13e-62\n",
      "Time:                        23:35:25   Log-Likelihood:                -734.79\n",
      "No. Observations:                 155   AIC:                             1474.\n",
      "Df Residuals:                     153   BIC:                             1480.\n",
      "Df Model:                           1                                         \n",
      "Covariance Type:            nonrobust                                         \n",
      "==============================================================================\n",
      "                 coef    std err          t      P>|t|      [0.025      0.975]\n",
      "------------------------------------------------------------------------------\n",
      "Intercept      2.9584      2.361      1.253      0.212      -1.705       7.622\n",
      "sqkm           1.6225      0.058     28.156      0.000       1.509       1.736\n",
      "==============================================================================\n",
      "Omnibus:                      101.958   Durbin-Watson:                   1.992\n",
      "Prob(Omnibus):                  0.000   Jarque-Bera (JB):             9684.296\n",
      "Skew:                           1.321   Prob(JB):                         0.00\n",
      "Kurtosis:                      41.633   Cond. No.                         43.2\n",
      "==============================================================================\n",
      "\n",
      "Warnings:\n",
      "[1] Standard Errors assume that the covariance matrix of the errors is correctly specified.\n",
      "                  0         1\n",
      "Intercept -1.705301  7.622048\n",
      "sqkm       1.508647  1.736334\n",
      "1.62249066253 2.95837343447 0.838225553578\n"
     ]
    }
   ],
   "source": [
    "results = smf.ols('MOD14count ~ sqkm', cleanedfireperimDF).fit()\n",
    "print(results.summary())\n",
    "intercept, slope = results.params\n",
    "r2 = results.rsquared\n",
    "print(results.conf_int())\n",
    "print(slope, intercept, r2)"
   ]
  },
  {
   "cell_type": "code",
   "execution_count": 97,
   "metadata": {
    "collapsed": false
   },
   "outputs": [
    {
     "name": "stdout",
     "output_type": "stream",
     "text": [
      "                            OLS Regression Results                            \n",
      "==============================================================================\n",
      "Dep. Variable:             VIIRSIcoun   R-squared:                       0.776\n",
      "Model:                            OLS   Adj. R-squared:                  0.775\n",
      "Method:                 Least Squares   F-statistic:                     530.6\n",
      "Date:                Fri, 28 Jul 2017   Prob (F-statistic):           1.35e-51\n",
      "Time:                        23:35:26   Log-Likelihood:                -929.32\n",
      "No. Observations:                 155   AIC:                             1863.\n",
      "Df Residuals:                     153   BIC:                             1869.\n",
      "Df Model:                           1                                         \n",
      "Covariance Type:            nonrobust                                         \n",
      "==============================================================================\n",
      "                 coef    std err          t      P>|t|      [0.025      0.975]\n",
      "------------------------------------------------------------------------------\n",
      "Intercept      7.7874      8.281      0.940      0.349      -8.573      24.148\n",
      "CalcAcres      0.0188      0.001     23.034      0.000       0.017       0.020\n",
      "==============================================================================\n",
      "Omnibus:                      142.153   Durbin-Watson:                   2.005\n",
      "Prob(Omnibus):                  0.000   Jarque-Bera (JB):            19128.458\n",
      "Skew:                           2.368   Prob(JB):                         0.00\n",
      "Kurtosis:                      57.216   Cond. No.                     1.07e+04\n",
      "==============================================================================\n",
      "\n",
      "Warnings:\n",
      "[1] Standard Errors assume that the covariance matrix of the errors is correctly specified.\n",
      "[2] The condition number is large, 1.07e+04. This might indicate that there are\n",
      "strong multicollinearity or other numerical problems.\n",
      "                  0          1\n",
      "Intercept -8.572797  24.147552\n",
      "CalcAcres  0.017227   0.020460\n",
      "0.0188435005802 7.78737792346 0.776175967496\n"
     ]
    }
   ],
   "source": [
    "results = smf.ols('VIIRSIcoun ~ CalcAcres', cleanedfireperimDF).fit()\n",
    "print(results.summary())\n",
    "intercept, slope = results.params\n",
    "r2 = results.rsquared\n",
    "print(results.conf_int())\n",
    "print(slope, intercept, r2)"
   ]
  },
  {
   "cell_type": "code",
   "execution_count": 98,
   "metadata": {
    "collapsed": false
   },
   "outputs": [
    {
     "name": "stdout",
     "output_type": "stream",
     "text": [
      "                            OLS Regression Results                            \n",
      "==============================================================================\n",
      "Dep. Variable:             VIIRSIcoun   R-squared:                       0.776\n",
      "Model:                            OLS   Adj. R-squared:                  0.775\n",
      "Method:                 Least Squares   F-statistic:                     530.6\n",
      "Date:                Fri, 28 Jul 2017   Prob (F-statistic):           1.35e-51\n",
      "Time:                        23:35:26   Log-Likelihood:                -929.32\n",
      "No. Observations:                 155   AIC:                             1863.\n",
      "Df Residuals:                     153   BIC:                             1869.\n",
      "Df Model:                           1                                         \n",
      "Covariance Type:            nonrobust                                         \n",
      "==============================================================================\n",
      "                 coef    std err          t      P>|t|      [0.025      0.975]\n",
      "------------------------------------------------------------------------------\n",
      "Intercept      7.7874      8.281      0.940      0.349      -8.573      24.148\n",
      "Hectares       0.0466      0.002     23.034      0.000       0.043       0.051\n",
      "==============================================================================\n",
      "Omnibus:                      142.153   Durbin-Watson:                   2.005\n",
      "Prob(Omnibus):                  0.000   Jarque-Bera (JB):            19128.458\n",
      "Skew:                           2.368   Prob(JB):                         0.00\n",
      "Kurtosis:                      57.216   Cond. No.                     4.32e+03\n",
      "==============================================================================\n",
      "\n",
      "Warnings:\n",
      "[1] Standard Errors assume that the covariance matrix of the errors is correctly specified.\n",
      "[2] The condition number is large, 4.32e+03. This might indicate that there are\n",
      "strong multicollinearity or other numerical problems.\n",
      "                  0          1\n",
      "Intercept -8.572797  24.147552\n",
      "Hectares   0.042570   0.050557\n",
      "0.0465632321088 7.78737792346 0.776175967496\n"
     ]
    }
   ],
   "source": [
    "results = smf.ols('VIIRSIcoun ~ Hectares', cleanedfireperimDF).fit()\n",
    "print(results.summary())\n",
    "intercept, slope = results.params\n",
    "r2 = results.rsquared\n",
    "print(results.conf_int())\n",
    "print(slope, intercept, r2)"
   ]
  },
  {
   "cell_type": "code",
   "execution_count": 99,
   "metadata": {
    "collapsed": false
   },
   "outputs": [
    {
     "name": "stdout",
     "output_type": "stream",
     "text": [
      "                            OLS Regression Results                            \n",
      "==============================================================================\n",
      "Dep. Variable:             VIIRSIcoun   R-squared:                       0.776\n",
      "Model:                            OLS   Adj. R-squared:                  0.775\n",
      "Method:                 Least Squares   F-statistic:                     530.6\n",
      "Date:                Fri, 28 Jul 2017   Prob (F-statistic):           1.35e-51\n",
      "Time:                        23:35:26   Log-Likelihood:                -929.32\n",
      "No. Observations:                 155   AIC:                             1863.\n",
      "Df Residuals:                     153   BIC:                             1869.\n",
      "Df Model:                           1                                         \n",
      "Covariance Type:            nonrobust                                         \n",
      "==============================================================================\n",
      "                 coef    std err          t      P>|t|      [0.025      0.975]\n",
      "------------------------------------------------------------------------------\n",
      "Intercept      7.7874      8.281      0.940      0.349      -8.573      24.148\n",
      "sqkm           4.6563      0.202     23.034      0.000       4.257       5.056\n",
      "==============================================================================\n",
      "Omnibus:                      142.153   Durbin-Watson:                   2.005\n",
      "Prob(Omnibus):                  0.000   Jarque-Bera (JB):            19128.458\n",
      "Skew:                           2.368   Prob(JB):                         0.00\n",
      "Kurtosis:                      57.216   Cond. No.                         43.2\n",
      "==============================================================================\n",
      "\n",
      "Warnings:\n",
      "[1] Standard Errors assume that the covariance matrix of the errors is correctly specified.\n",
      "                  0          1\n",
      "Intercept -8.572797  24.147552\n",
      "sqkm       4.256960   5.055686\n",
      "4.65632321088 7.78737792346 0.776175967496\n"
     ]
    }
   ],
   "source": [
    "results = smf.ols('VIIRSIcoun ~ sqkm', cleanedfireperimDF).fit()\n",
    "print(results.summary())\n",
    "intercept, slope = results.params\n",
    "r2 = results.rsquared\n",
    "print(results.conf_int())\n",
    "print(slope, intercept, r2)"
   ]
  },
  {
   "cell_type": "code",
   "execution_count": 100,
   "metadata": {
    "collapsed": false
   },
   "outputs": [
    {
     "data": {
      "text/plain": [
       "Intercept    7.787378\n",
       "sqkm         4.656323\n",
       "dtype: float64"
      ]
     },
     "execution_count": 100,
     "metadata": {},
     "output_type": "execute_result"
    }
   ],
   "source": [
    "results.params"
   ]
  },
  {
   "cell_type": "code",
   "execution_count": 101,
   "metadata": {
    "collapsed": false,
    "scrolled": false
   },
   "outputs": [
    {
     "name": "stdout",
     "output_type": "stream",
     "text": [
      "                            OLS Regression Results                            \n",
      "==============================================================================\n",
      "Dep. Variable:             VIIRSIcoun   R-squared:                       0.961\n",
      "Model:                            OLS   Adj. R-squared:                  0.961\n",
      "Method:                 Least Squares   F-statistic:                     3781.\n",
      "Date:                Fri, 28 Jul 2017   Prob (F-statistic):          8.73e-110\n",
      "Time:                        23:35:28   Log-Likelihood:                -793.69\n",
      "No. Observations:                 155   AIC:                             1591.\n",
      "Df Residuals:                     153   BIC:                             1597.\n",
      "Df Model:                           1                                         \n",
      "Covariance Type:            nonrobust                                         \n",
      "==============================================================================\n",
      "                 coef    std err          t      P>|t|      [0.025      0.975]\n",
      "------------------------------------------------------------------------------\n",
      "Intercept     -1.9945      3.468     -0.575      0.566      -8.845       4.856\n",
      "MOD14count     2.9238      0.048     61.490      0.000       2.830       3.018\n",
      "==============================================================================\n",
      "Omnibus:                       45.663   Durbin-Watson:                   1.872\n",
      "Prob(Omnibus):                  0.000   Jarque-Bera (JB):             1088.668\n",
      "Skew:                          -0.042   Prob(JB):                    3.97e-237\n",
      "Kurtosis:                      15.983   Cond. No.                         77.2\n",
      "==============================================================================\n",
      "\n",
      "Warnings:\n",
      "[1] Standard Errors assume that the covariance matrix of the errors is correctly specified.\n",
      "                   0         1\n",
      "Intercept  -8.845026  4.856099\n",
      "MOD14count  2.829861  3.017736\n",
      "2.92379897545 -1.99446320551 0.96110865839\n"
     ]
    }
   ],
   "source": [
    "results = smf.ols('VIIRSIcoun ~ MOD14count', cleanedfireperimDF).fit()\n",
    "print(results.summary())\n",
    "intercept, slope = results.params\n",
    "r2 = results.rsquared\n",
    "print(results.conf_int())\n",
    "print(slope, intercept, r2)"
   ]
  },
  {
   "cell_type": "code",
   "execution_count": 102,
   "metadata": {
    "collapsed": false
   },
   "outputs": [
    {
     "data": {
      "image/png": "[encoded data removed]",
      "text/plain": [
       "<matplotlib.figure.Figure at 0x1186ecfd0>"
      ]
     },
     "metadata": {},
     "output_type": "display_data"
    },
    {
     "data": {
      "image/png": "[encoded data removed]",
      "text/plain": [
       "<matplotlib.figure.Figure at 0x118439d90>"
      ]
     },
     "metadata": {},
     "output_type": "display_data"
    }
   ],
   "source": [
    "sns.set_context(\"paper\", font_scale=2)\n",
    "ax1 = sns.lmplot(x=\"Hectares\", y=\"VIIRSIcoun\", \n",
    "        size=5,\n",
    "        aspect=1.5,\n",
    "        data=cleanedfireperimDF);\n",
    "sns.lmplot(x=\"Hectares\", y=\"MOD14count\", \n",
    "           data=cleanedfireperimDF,\n",
    "           size=5,\n",
    "           aspect=1.5,\n",
    "          );"
   ]
  },
  {
   "cell_type": "code",
   "execution_count": 103,
   "metadata": {
    "collapsed": false
   },
   "outputs": [
    {
     "data": {
      "image/png": "[encoded data removed]",
      "text/plain": [
       "<matplotlib.figure.Figure at 0x1186de3d0>"
      ]
     },
     "metadata": {},
     "output_type": "display_data"
    }
   ],
   "source": [
    "ax1 = sns.regplot(x=\"Hectares\", y=\"MOD14count\", \n",
    "           data=cleanedfireperimDF,\n",
    "            line_kws={'zorder': 1}\n",
    "          );sns.regplot(x=\"Hectares\", y=\"VIIRSIcoun\", \n",
    "           data=cleanedfireperimDF,\n",
    "            line_kws={'zorder': 1},\n",
    "            ax=ax1\n",
    "          );"
   ]
  },
  {
   "cell_type": "code",
   "execution_count": 104,
   "metadata": {
    "collapsed": false,
    "scrolled": false
   },
   "outputs": [
    {
     "data": {
      "image/png": "[encoded data removed]",
      "text/plain": [
       "<matplotlib.figure.Figure at 0x1186ec790>"
      ]
     },
     "metadata": {},
     "output_type": "display_data"
    }
   ],
   "source": [
    "sns.set_context(\"poster\", font_scale=1.8)\n",
    "palette = itertools.cycle(sns.color_palette())\n",
    "xlim = (-22, 500)\n",
    "ylim = (-22, 1500)\n",
    "ax1 = plot_frame(cleanedfireperimDF, kind='scatter', \n",
    "                                 x=\"MOD14count\", \n",
    "                                 y=\"VIIRSIcoun\", \n",
    "                                 xlim=xlim, \n",
    "                                 ylim=ylim, \n",
    "                                 s=60, \n",
    "                                 marker='o',\n",
    "                                 c='Hectares',\n",
    "                                 cmap=\"gist_stern_r\",\n",
    "                                 vmin=0, \n",
    "                                 vmax=23000,\n",
    "                                 colorbar=True,\n",
    "                                 legend=True,\n",
    "                                 figsize=(15, 12),\n",
    "                                 sharex=False,\n",
    "                                 zorder=2\n",
    "                                )\n",
    "sns.regplot(\n",
    "    x=\"MOD14count\", \n",
    "    y=\"VIIRSIcoun\", \n",
    "    data=cleanedfireperimDF,\n",
    "    ax=ax1,\n",
    "    color=\"grey\",\n",
    "    scatter=False,\n",
    "    line_kws={'zorder': 1}\n",
    "    )\n",
    "\n",
    "ax1.set_xlabel('MODIS detections')\n",
    "ax1.set_ylabel('VIIRS I-band detections')\n",
    "\n",
    "f = plt.gcf()"
   ]
  },
  {
   "cell_type": "code",
   "execution_count": 105,
   "metadata": {
    "collapsed": true
   },
   "outputs": [],
   "source": [
    "gisoutdir = '/Volumes/SCIENCE_mobile_Mac/Fire/DATA_BY_PROJECT/2015VIIRSMODIS/GISout/'"
   ]
  },
  {
   "cell_type": "code",
   "execution_count": 134,
   "metadata": {
    "collapsed": true
   },
   "outputs": [],
   "source": [
    "outfn = 'fig05.png'\n",
    "f.savefig(os.path.join(gisoutdir, outfn), dpi=300, bbox_inches='tight')"
   ]
  },
  {
   "cell_type": "code",
   "execution_count": 135,
   "metadata": {
    "collapsed": true
   },
   "outputs": [],
   "source": [
    "outfn = 'fig05_LR.png'\n",
    "f.savefig(os.path.join(gisoutdir, outfn), dpi=150, bbox_inches='tight')"
   ]
  },
  {
   "cell_type": "code",
   "execution_count": 118,
   "metadata": {
    "collapsed": false
   },
   "outputs": [
    {
     "data": {
      "image/png": "[encoded data removed]",
      "text/plain": [
       "<matplotlib.figure.Figure at 0x11886ce10>"
      ]
     },
     "metadata": {},
     "output_type": "display_data"
    }
   ],
   "source": [
    "sns.set_context(\"poster\", font_scale=1.6)\n",
    "\n",
    "\n",
    "plotpalette = sns.xkcd_palette(['denim blue', 'apple green', ])\n",
    "palette1 = itertools.cycle(plotpalette)\n",
    "xlim = (-100, 23000)\n",
    "ylim = (-100, 1500)\n",
    "\n",
    "palette0 = itertools.cycle(sns.color_palette())\n",
    "\n",
    "\n",
    "fig, (ax0, ax1) = plt.subplots(ncols=2, figsize=(20, 8))\n",
    "plot_frame(cleanedfireperimDF, \n",
    "        kind='scatter', x='Hectares', y=\"VIIRSIcoun\", s=80, edgecolor='k', marker='D',\n",
    "        zorder=5, ax=ax0, label=\"VIIRS I-band\", color=next(palette1))\n",
    "plot_frame(cleanedfireperimDF, \n",
    "        kind='scatter', x='Hectares', y=\"MOD14count\", s=80,  edgecolor='k', marker='s',\n",
    "        zorder=5, ax=ax0, label=\"MODIS\", color=next(palette1))\n",
    "\n",
    "sns.regplot(x=\"Hectares\", y=\"VIIRSIcoun\", \n",
    "           data=cleanedfireperimDF,\n",
    "            line_kws={'zorder': 1},\n",
    "            color=next(palette1),\n",
    "            scatter=False,\n",
    "            ax=ax0\n",
    "          );\n",
    "sns.regplot(x=\"Hectares\", y=\"MOD14count\", \n",
    "            data=cleanedfireperimDF,\n",
    "            line_kws={'zorder': 1},\n",
    "            color=next(palette1),\n",
    "            scatter=False,\n",
    "            ax=ax0\n",
    "          );\n",
    "leg = ax0.legend(frameon=True)\n",
    "leg.get_frame().set_facecolor('white')\n",
    "ax0.set_xlabel('Hectares')\n",
    "ax0.set_ylabel('Fire detections')\n",
    "ax0.set_xlim(xlim)\n",
    "ax0.set_ylim(ylim)\n",
    "ax0.text(2000, 1300, 'a)')\n",
    "#ax0.set_xticks([0, 25000, 50000, 75000, 100000, 125000])\n",
    "\n",
    "# right\n",
    "xlim = (-22, 500)\n",
    "ylim = (-22, 1500)\n",
    "plot_frame(cleanedfireperimDF, kind='scatter', \n",
    "                                 x=\"MOD14count\", \n",
    "                                 y=\"VIIRSIcoun\", \n",
    "                                 xlim=xlim, \n",
    "                                 ylim=ylim, \n",
    "                                 s=80, \n",
    "                                 edgecolor='k', \n",
    "                                 c='Hectares',\n",
    "                                 cmap=\"viridis_r\",\n",
    "                                 vmin=0, \n",
    "                                 vmax=23000,\n",
    "                                 colorbar=True,\n",
    "                                 legend=True,\n",
    "                                 sharex=False,\n",
    "                                 zorder=2,\n",
    "                                 ax=ax1\n",
    "                                )\n",
    "sns.regplot(\n",
    "    x=\"MOD14count\", \n",
    "    y=\"VIIRSIcoun\", \n",
    "    data=cleanedfireperimDF,\n",
    "    ax=ax1,\n",
    "    color=\"grey\",\n",
    "    scatter=False,\n",
    "    line_kws={'zorder': 1}\n",
    "    )\n",
    "\n",
    "ax1.set_xlabel('MODIS detections')\n",
    "ax1.set_ylabel('VIIRS I-band detections')\n",
    "ax1.text(50, 1300, 'b)')\n",
    "plt.tight_layout()"
   ]
  },
  {
   "cell_type": "code",
   "execution_count": 119,
   "metadata": {
    "collapsed": true
   },
   "outputs": [],
   "source": [
    "outfn = 'Fig05'\n",
    "fig.savefig(os.path.join(gisoutdir, outfn + '_LR.png'), dpi=150, bb_inches='tight')"
   ]
  },
  {
   "cell_type": "code",
   "execution_count": 120,
   "metadata": {
    "collapsed": true
   },
   "outputs": [],
   "source": [
    "from PIL import Image\n",
    "from io import BytesIO\n",
    "fig.savefig(os.path.join(gisoutdir, outfn + '.png'), dpi=300, bb_inches='tight')\n",
    "png = Image.open(os.path.join(gisoutdir, outfn + '.png'))\n",
    "png.save(os.path.join(gisoutdir, outfn + '.tif'))\n",
    "png.close()"
   ]
  }
 ],
 "metadata": {
  "anaconda-cloud": {},
  "kernelspec": {
   "display_name": "Python [default]",
   "language": "python",
   "name": "python2"
  },
  "language_info": {
   "codemirror_mode": {
    "name": "ipython",
    "version": 2
   },
   "file_extension": ".py",
   "mimetype": "text/x-python",
   "name": "python",
   "nbconvert_exporter": "python",
   "pygments_lexer": "ipython2",
   "version": "2.7.13"
  }
 },
 "nbformat": 4,
 "nbformat_minor": 1
}
