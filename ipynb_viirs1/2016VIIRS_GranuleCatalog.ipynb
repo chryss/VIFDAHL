{
 "cells": [
  {
   "cell_type": "markdown",
   "metadata": {},
   "source": [
    "This notebook is to illustrate the development of the JSON catalog function for VIIRS SDS files that are organised in per-overpass directories as per GINA's setup, at least in 2015. "
   ]
  },
  {
   "cell_type": "markdown",
   "metadata": {},
   "source": [
    "First, imports"
   ]
  },
  {
   "cell_type": "code",
   "execution_count": 1,
   "metadata": {
    "collapsed": true
   },
   "outputs": [],
   "source": [
    "%matplotlib inline\n",
    "from __future__ import print_function, division\n",
    "import sys, os\n",
    "import json"
   ]
  },
  {
   "cell_type": "code",
   "execution_count": 2,
   "metadata": {
    "collapsed": false
   },
   "outputs": [],
   "source": [
    "from shapely.geometry import Polygon"
   ]
  },
  {
   "cell_type": "code",
   "execution_count": 3,
   "metadata": {
    "collapsed": true
   },
   "outputs": [],
   "source": [
    "from pygaarst import raster\n",
    "import viirstools as vt\n",
    "import viirsswathtools as vst"
   ]
  },
  {
   "cell_type": "markdown",
   "metadata": {},
   "source": [
    "During development, I usually want to reload the external module regularly, so let's put a cell to do so here. "
   ]
  },
  {
   "cell_type": "code",
   "execution_count": 41,
   "metadata": {
    "collapsed": false
   },
   "outputs": [
    {
     "data": {
      "text/plain": [
       "<module 'viirstools' from 'viirstools.py'>"
      ]
     },
     "execution_count": 41,
     "metadata": {},
     "output_type": "execute_result"
    }
   ],
   "source": [
    "reload(vt)"
   ]
  },
  {
   "cell_type": "markdown",
   "metadata": {},
   "source": [
    "Then directories, and some helper definitions."
   ]
  },
  {
   "cell_type": "code",
   "execution_count": 4,
   "metadata": {
    "collapsed": false
   },
   "outputs": [
    {
     "name": "stdout",
     "output_type": "stream",
     "text": [
      "/Volumes/SCIENCE_mobile_Mac/Fire/DATA_BY_PROJECT/2015VIIRSMODIS/VIIRS/ exists\n"
     ]
    }
   ],
   "source": [
    "ALT1 = True\n",
    "ALT2 = False \n",
    "\n",
    "basedir = '/Volumes/cwdata1/VIIRS/GINA/dds.gina.alaska.edu/NPP/viirs/'\n",
    "outdir = '/Volumes/SCIENCE_mobile_Mac/Fire/DATA_BY_PROJECT/2015VIIRSMODIS/rasterout/'\n",
    "if ALT1:\n",
    "    basedir = '/Volumes/SCIENCE_mobile_Mac/Fire/DATA_BY_PROJECT/2015VIIRSMODIS/VIIRS/'\n",
    "elif ALT2:\n",
    "    basedir = '/Volumes/SCIENCE/Fire/DATA_BY_AREA/2015/VIIRS/'\n",
    "\n",
    "if os.path.isdir(basedir):\n",
    "    print(basedir, \"exists\")\n",
    "else:\n",
    "    print(\"Please check directory {}: cannot access it.\".format(basedir))"
   ]
  },
  {
   "cell_type": "code",
   "execution_count": 5,
   "metadata": {
    "collapsed": false
   },
   "outputs": [],
   "source": [
    "overpasses = [\n",
    "    u'2015_06_14_165_1148',\n",
    "    u'2015_06_14_165_2144',\n",
    "    u'2015_06_14_165_2325',\n",
    "]"
   ]
  },
  {
   "cell_type": "markdown",
   "metadata": {},
   "source": [
    "We can use the existing getfilesbygranule() function (which is a little misnamed as it actually retrieves files by overpass and then, one level lower, granule) to get some test files. "
   ]
  },
  {
   "cell_type": "code",
   "execution_count": 6,
   "metadata": {
    "collapsed": false
   },
   "outputs": [],
   "source": [
    "myviirsfiles = vt.getfilesbygranule(basedir, overpasses)"
   ]
  },
  {
   "cell_type": "code",
   "execution_count": 7,
   "metadata": {
    "collapsed": true
   },
   "outputs": [],
   "source": [
    "allviirsfiles = vt.getfilesbygranule(basedir)"
   ]
  },
  {
   "cell_type": "markdown",
   "metadata": {},
   "source": [
    "Step 1: Define a function to check if a set of files for a granule is complete, prima facie, that is, if all 25 files that make up a granule are present."
   ]
  },
  {
   "cell_type": "code",
   "execution_count": 8,
   "metadata": {
    "collapsed": false
   },
   "outputs": [],
   "source": [
    "BANDFILES = {\n",
    "    u'dnb': ['SVDNB', u'GDNBO'],\n",
    "    u'iband': [u'SVI01', u'SVI02', u'SVI03', u'SVI04', u'SVI05', u'GITCO'],\n",
    "    u'mband': [u'SVM01', u'SVM02', u'SVM03', u'SVM04', u'SVM05', \n",
    "               u'SVM06', u'SVM07', u'SVM08', u'SVM09', u'SVM10', \n",
    "               u'SVM11', u'SVM12', u'SVM13', u'SVM14', u'SVM15', \n",
    "               u'SVM16', u'GMTCO'],\n",
    "}\n",
    "\n",
    "def checkviirsganulecomplete(granuledict, dataset='iband'):\n",
    "    dataset = dataset.lower()\n",
    "    complete = True\n",
    "    if dataset not in BANDFILES.keys():\n",
    "        print(\"Unknown band type '{}' for viirs granule. Valid values are: {}.\".format(\n",
    "            dataset, ', '.join(BANDFILES.keys())))\n",
    "        return\n",
    "    complete = True\n",
    "    for bandname in BANDFILES[dataset]:\n",
    "        try:\n",
    "            if not granuledict[bandname]:\n",
    "                complete = False\n",
    "                print(\"detected missing band {}\".format(bandname))\n",
    "                return complete\n",
    "        except KeyError:\n",
    "            complete = False\n",
    "            print(\"detected missing key for band {}\".format(bandname))\n",
    "            return complete\n",
    "    return complete"
   ]
  },
  {
   "cell_type": "markdown",
   "metadata": {},
   "source": [
    "Here's how it is used:"
   ]
  },
  {
   "cell_type": "code",
   "execution_count": 16,
   "metadata": {
    "collapsed": false
   },
   "outputs": [
    {
     "data": {
      "text/plain": [
       "True"
      ]
     },
     "execution_count": 16,
     "metadata": {},
     "output_type": "execute_result"
    }
   ],
   "source": [
    "checkviirsganulecomplete(myviirsfiles['2015_06_14_165_1148']['20150614_1152377'], 'mband')"
   ]
  },
  {
   "cell_type": "markdown",
   "metadata": {},
   "source": [
    "Step 2: Retrieve a catalog of granules, by granule, based on first running the existing function, then adding the test, then adding metadata and supplementary information:\n",
    "\n",
    " * Whether the I-band, M-band and DNB files are complete\n",
    " * The granule ID and orbit number\n",
    " * A WKT string for the edge of the I-band raster geolocation, in native WGS84. Note that this is unlikely to be avalid polygon, but can be transformed into one by projecting. It's a useful string. The M-band and DNB locations won't be horribly different. We can add them at a later stage if we want."
   ]
  },
  {
   "cell_type": "code",
   "execution_count": 31,
   "metadata": {
    "collapsed": true
   },
   "outputs": [],
   "source": [
    "def getgranulecatalog(basedir, overpassdirlist=None):\n",
    "    intermediary = vt.getfilesbygranule(basedir, scenelist=overpassdirlist)\n",
    "    catalog = {}\n",
    "    for overpass in intermediary:\n",
    "        for granule in intermediary[overpass]:\n",
    "            if granule in ['dir', 'message']: continue\n",
    "            print(granule)\n",
    "            catalog[granule] = intermediary[overpass][granule]\n",
    "            catalog[granule][u'dir'] = intermediary[overpass]['dir']\n",
    "            for datasettype in BANDFILES:\n",
    "                catalog[granule][datasettype + u'_complete'] = checkviirsganulecomplete(catalog[granule])\n",
    "            if catalog[granule][u'iband_complete']:\n",
    "                try:\n",
    "                    viirs = raster.VIIRSHDF5(os.path.join(\n",
    "                            catalog[granule][u'dir'], \n",
    "                            catalog[granule][u'SVI01']))\n",
    "                except IOError:\n",
    "                    print(\"cannot access data file for I-band in {}\".format(granule))\n",
    "                    catalog[granule][u'iband_complete'] = False\n",
    "                    continue\n",
    "                catalog[granule][u'granuleID'] = viirs.meta[u'Data_Product'][u'AggregateBeginningGranuleID']\n",
    "                catalog[granule][u'orbitnumber'] = viirs.meta[u'Data_Product'][u'AggregateBeginningOrbitNumber']\n",
    "                try:\n",
    "                    catalog[granule][u'ascending_node'] = viirs.ascending_node\n",
    "                    edgelons, edgelats = vt.getedge(viirs)\n",
    "                except IOError:\n",
    "                    print(\"cannot access geodata file for I-band in {}\".format(granule))\n",
    "                    catalog[granule][u'iband_complete'] = False\n",
    "                    continue\n",
    "                catalog[granule][u'edgepolygon_I'] = Polygon(zip(edgelons, edgelats)).wkt\n",
    "                viirs.close()\n",
    "    return catalog "
   ]
  },
  {
   "cell_type": "markdown",
   "metadata": {},
   "source": [
    "... and here is how it's used."
   ]
  },
  {
   "cell_type": "code",
   "execution_count": 42,
   "metadata": {
    "collapsed": false
   },
   "outputs": [
    {
     "name": "stdout",
     "output_type": "stream",
     "text": [
      "20150614_1152377\n",
      "20150614_1151123\n",
      "20150614_1155285\n",
      "20150614_1156521\n",
      "20150614_1149468\n",
      "20150614_1158175\n",
      "20150614_1148213\n",
      "20150614_1154031\n"
     ]
    }
   ],
   "source": [
    "singlecata = getgranulecatalog(basedir, ['2015_06_14_165_1148'])"
   ]
  },
  {
   "cell_type": "markdown",
   "metadata": {},
   "source": [
    "After adding the two functions and constant to the helper file `viirstools.py`, we can use it as follows:"
   ]
  },
  {
   "cell_type": "code",
   "execution_count": 33,
   "metadata": {
    "collapsed": true
   },
   "outputs": [
    {
     "name": "stdout",
     "output_type": "stream",
     "text": [
      "20150527_2048058\n",
      "20150527_2049312\n",
      "20150527_2042242\n",
      "20150527_2050566\n",
      "20150527_2041002\n",
      "20150527_2046404\n",
      "20150527_2045150\n",
      "20150527_2043496\n",
      "20150527_2226152\n",
      "20150527_2224498\n",
      "20150527_2230314\n",
      "20150527_2231568\n",
      "20150527_2229060\n",
      "20150527_2223242\n",
      "20150527_2227406\n",
      "20150528_1034340\n",
      "20150528_1028524\n",
      "20150528_1031432\n",
      "20150528_1027270\n",
      "20150528_1033086\n",
      "20150528_1030178\n",
      "20150528_2027447\n",
      "20150528_2024539\n",
      "20150528_2026193\n",
      "20150528_2030355\n",
      "20150528_2032010\n",
      "20150528_2029101\n",
      "20150528_2023302\n",
      "20150528_2213011\n",
      "20150528_2207195\n",
      "20150528_2210103\n",
      "20150528_2204287\n",
      "20150528_2208449\n",
      "20150528_2203032\n",
      "20150528_2205541\n",
      "20150528_2211357\n",
      "20150528_2352359\n",
      "20150528_2351105\n",
      "20150528_2348197\n",
      "20150528_2346543\n",
      "20150528_2345289\n",
      "20150528_2344033\n",
      "20150528_2349451\n",
      "20150529_2151147\n",
      "20150529_2152401\n",
      "20150529_2154055\n",
      "20150529_2149493\n",
      "20150529_2145330\n",
      "20150529_2148239\n",
      "20150529_2146585\n",
      "20150529_2144093\n",
      "20150529_2330495\n",
      "20150529_2329240\n",
      "20150529_2333403\n",
      "20150529_2325077\n",
      "20150529_2332149\n",
      "20150529_2327586\n",
      "20150529_2326332\n",
      "20150614_1014283\n",
      "20150614_1010121\n",
      "20150614_1008465\n",
      "20150614_1011375\n",
      "20150614_1013029\n",
      "20150614_1015537\n",
      "20150614_1152377\n",
      "20150614_1151123\n",
      "20150614_1155285\n",
      "20150614_1156521\n",
      "20150614_1149468\n",
      "20150614_1158175\n",
      "20150614_1148213\n",
      "20150614_1154031\n",
      "20150614_1327559\n",
      "20150614_1336269\n",
      "20150614_1330453\n",
      "cannot access geodata file for I-band 1 in 20150614_1330453\n",
      "20150614_1332107\n",
      "20150614_1335015\n",
      "20150614_1333361\n",
      "20150614_1329199\n",
      "20150614_1337523\n",
      "20150614_2011552\n",
      "20150614_2009044\n",
      "20150614_2010298\n",
      "20150614_2006136\n",
      "20150614_2013206\n",
      "20150614_2004480\n",
      "20150614_2007390\n",
      "20150614_2154208\n",
      "20150614_2148392\n",
      "20150614_2151300\n",
      "20150614_2144229\n",
      "20150614_2147138\n",
      "20150614_2145484\n",
      "20150614_2152554\n",
      "20150614_2150046\n",
      "20150614_2332284\n",
      "20150614_2326486\n",
      "20150614_2328122\n",
      "20150614_2325231\n",
      "20150614_2331030\n",
      "20150614_2329376\n",
      "20150614_2333538\n",
      "20150615_1132166\n",
      "20150615_1136328\n",
      "20150615_1129256\n",
      "20150615_1130512\n",
      "20150615_1137582\n",
      "20150615_1135074\n",
      "20150615_1139236\n",
      "20150615_1133420\n",
      "20150615_1311514\n",
      "20150615_1320220\n",
      "20150615_1317312\n",
      "20150615_1310260\n",
      "20150615_1313168\n",
      "20150615_1316076\n",
      "20150615_1314422\n",
      "20150615_1318566\n",
      "20150615_2135251\n",
      "20150615_2126527\n",
      "20150615_2131089\n",
      "20150615_2129435\n",
      "20150615_2133597\n",
      "20150615_2128181\n",
      "20150615_2132343\n",
      "20150615_2125272\n",
      "20150615_2307529\n",
      "20150615_2313345\n",
      "20150615_2310437\n",
      "20150615_2312091\n",
      "20150615_2314599\n",
      "20150615_2306275\n",
      "20150615_2309183\n",
      "20150616_1110300\n",
      "20150616_1113209\n",
      "20150616_1114463\n",
      "20150616_1117371\n",
      "20150616_1111555\n",
      "20150616_1119026\n",
      "20150616_1116117\n",
      "20150616_1120280\n",
      "20150616_1254211\n",
      "20150616_1258373\n",
      "20150616_1300027\n",
      "20150616_1255465\n",
      "20150616_1257119\n",
      "20150616_1252557\n",
      "20150616_1301281\n",
      "20150616_1251303\n",
      "20150616_2112133\n",
      "20150616_2113387\n",
      "20150616_2110479\n",
      "20150616_2116295\n",
      "20150616_2109225\n",
      "20150616_2115041\n",
      "20150616_2107571\n",
      "20150616_2106315\n",
      "20150616_2256043\n",
      "20150616_2248572\n",
      "20150616_2246062\n",
      "20150616_2254389\n",
      "20150616_2247318\n",
      "20150616_2250226\n",
      "20150616_2253135\n",
      "20150616_2251481\n",
      "20150617_1235255\n",
      "20150617_1238163\n",
      "20150617_1239417\n",
      "20150617_1242325\n",
      "20150617_1232346\n",
      "20150617_1236509\n",
      "20150617_1234001\n",
      "20150617_1241071\n",
      "20150617_2056084\n",
      "20150617_2050268\n",
      "20150617_2047359\n",
      "20150617_2054430\n",
      "20150617_2051522\n",
      "20150617_2053176\n",
      "20150617_2049014\n",
      "20150617_2057338\n",
      "20150617_2228362\n",
      "20150617_2237086\n",
      "20150617_2235432\n",
      "20150617_2230016\n",
      "20150617_2234178\n",
      "20150617_2231270\n",
      "20150617_2227106\n",
      "20150617_2238340\n",
      "20150617_2232524\n",
      "20150618_1222114\n",
      "20150618_1215044\n",
      "20150618_1219206\n",
      "20150618_1220460\n",
      "20150618_1216298\n",
      "20150618_1217552\n",
      "20150618_1213389\n",
      "20150618_1223368\n",
      "20150618_2211059\n",
      "20150618_2213567\n",
      "20150618_2216475\n",
      "20150618_2218129\n",
      "20150618_2209405\n",
      "20150618_2208148\n",
      "20150618_2215221\n",
      "20150618_2212313\n",
      "20150618_2353315\n",
      "20150618_2356223\n",
      "20150618_2357477\n",
      "20150618_2354569\n",
      "20150618_2350405\n",
      "20150618_2359131\n",
      "20150618_2352061\n",
      "20150619_1154433\n",
      "20150619_1157341\n",
      "20150619_1201503\n",
      "20150619_1204411\n",
      "20150619_1158595\n",
      "20150619_1203157\n",
      "20150619_1200249\n",
      "20150619_1156087\n",
      "20150619_2018171\n",
      "20150619_2014026\n",
      "20150619_2015263\n",
      "20150619_2012372\n",
      "20150619_2011118\n",
      "20150619_2019425\n",
      "20150619_2016517\n",
      "20150619_2200427\n",
      "20150619_2155010\n",
      "20150619_2152102\n",
      "20150619_2150448\n",
      "20150619_2153356\n",
      "20150619_2159173\n",
      "20150619_2156264\n",
      "20150619_2157519\n",
      "20150629_2207484\n",
      "20150629_2209138\n",
      "20150629_2212046\n",
      "20150629_2204576\n",
      "20150629_2203322\n",
      "20150629_2206230\n",
      "20150629_2210392\n",
      "20150629_2202066\n",
      "20150629_2348468\n",
      "20150629_2350122\n",
      "20150629_2347232\n",
      "20150629_2345578\n",
      "20150629_2351376\n",
      "20150629_2353030\n",
      "20150629_2344324\n",
      "20150630_2146019\n",
      "20150630_2143108\n",
      "20150630_2151436\n",
      "20150630_2144365\n",
      "20150630_2153090\n",
      "20150630_2147273\n",
      "20150630_2150182\n",
      "20150630_2148527\n",
      "20150630_2327021\n",
      "20150630_2331183\n",
      "20150630_2324110\n",
      "20150630_2328275\n",
      "20150630_2334092\n",
      "20150630_2332437\n",
      "20150630_2325367\n",
      "20150630_2329529\n",
      "20150705_1153320\n",
      "20150705_1200393\n",
      "20150705_1202047\n",
      "20150705_1204555\n",
      "20150705_1157485\n",
      "20150705_1156231\n",
      "20150705_1159139\n",
      "20150705_1203301\n",
      "20150705_1154577\n",
      "20150705_1335579\n",
      "20150705_1344303\n",
      "20150705_1334323\n",
      "20150705_1343049\n",
      "20150705_1337233\n",
      "20150705_1338487\n",
      "20150705_1341395\n",
      "20150705_1340141\n",
      "20150705_1519489\n",
      "20150705_1522397\n",
      "20150705_1515326\n",
      "20150705_1521143\n",
      "20150705_1518235\n",
      "20150705_1516581\n",
      "20150705_1700473\n",
      "20150705_1656328\n",
      "20150705_1657582\n",
      "20150705_1659237\n",
      "20150705_1655074\n",
      "20150705_1834404\n",
      "20150705_1837313\n",
      "20150705_1838567\n",
      "20150705_1833168\n",
      "20150705_1836058\n",
      "20150705_2014152\n",
      "20150705_2017060\n",
      "20150705_2018314\n",
      "20150705_2015406\n",
      "20150705_2019568\n",
      "20150705_2012498\n",
      "20150705_2011244\n",
      "20150705_2149336\n",
      "20150705_2152246\n",
      "20150705_2156408\n",
      "20150705_2159316\n",
      "20150705_2158062\n",
      "20150705_2153500\n",
      "20150705_2155154\n",
      "20150705_2150592\n",
      "20150705_2340318\n",
      "20150705_2331594\n",
      "20150705_2336156\n",
      "20150705_2330337\n",
      "20150705_2334502\n",
      "20150705_2337410\n",
      "20150705_2333248\n",
      "20150705_2339064\n",
      "20150706_0959180\n",
      "20150706_0956272\n",
      "20150706_1000434\n",
      "20150706_1002089\n",
      "20150706_0957525\n",
      "20150706_1144344\n",
      "20150706_1134381\n",
      "20150706_1143090\n",
      "20150706_1145598\n",
      "20150706_1140182\n",
      "20150706_1141436\n",
      "20150706_1136020\n",
      "20150706_1138528\n",
      "20150706_1137274\n",
      "20150706_1325346\n",
      "20150706_1318276\n",
      "20150706_1317022\n",
      "20150706_1324092\n",
      "20150706_1319530\n",
      "20150706_1322438\n",
      "20150706_1321184\n",
      "20150706_1315366\n",
      "20150706_1500532\n",
      "20150706_1456369\n",
      "20150706_1458024\n",
      "20150706_1502186\n",
      "20150706_1459278\n",
      "20150706_1503440\n",
      "20150706_1641534\n",
      "20150706_1640280\n",
      "20150706_1639026\n",
      "20150706_1637372\n",
      "20150706_1636116\n",
      "20150706_1820028\n",
      "20150706_1817120\n",
      "20150706_1815466\n",
      "20150706_1818374\n",
      "20150706_1959358\n",
      "20150706_2001012\n",
      "20150706_1952304\n",
      "20150706_1956450\n",
      "20150706_1955196\n",
      "20150706_1958104\n",
      "20150706_1953542\n",
      "20150706_2134543\n",
      "20150706_2136198\n",
      "20150706_2139106\n",
      "20150706_2133289\n",
      "20150706_2132035\n",
      "20150706_2137452\n",
      "20150706_2130396\n",
      "20150706_2140360\n",
      "20150706_2315545\n",
      "20150706_2311382\n",
      "20150706_2318453\n",
      "20150706_2313037\n",
      "20150706_2314291\n",
      "20150706_2317199\n",
      "20150706_2320108\n",
      "20150706_2321362\n",
      "20150707_0056547\n",
      "20150707_0059455\n",
      "20150707_0058201\n",
      "20150707_0938588\n",
      "20150707_0940242\n",
      "20150707_0937330\n",
      "20150707_0941496\n",
      "20150707_1124134\n",
      "20150707_1125388\n",
      "20150707_1127042\n",
      "20150707_1118318\n",
      "20150707_1122480\n",
      "20150707_1121226\n",
      "20150707_1117063\n",
      "20150707_1119572\n",
      "20150707_1258065\n",
      "20150707_1308044\n",
      "20150707_1256409\n",
      "20150707_1303482\n",
      "20150707_1306390\n",
      "20150707_1305136\n",
      "20150707_1259320\n",
      "20150707_1302228\n",
      "20150707_1300574\n",
      "20150707_1444484\n",
      "20150707_1446138\n",
      "20150707_1441575\n",
      "20150707_1440321\n",
      "20150707_1443230\n",
      "20150707_1437412\n",
      "20150707_1439067\n",
      "20150707_1618415\n",
      "20150707_1620069\n",
      "20150707_1622577\n",
      "20150707_1617159\n",
      "20150707_1621323\n",
      "20150707_1759417\n",
      "detected missing key for band SVI02\n",
      "detected missing key for band SVI02\n",
      "detected missing key for band SVI02\n",
      "20150707_1758163\n",
      "detected missing key for band SVI03\n",
      "detected missing key for band SVI03\n",
      "detected missing key for band SVI03\n",
      "20150707_1756509\n",
      "detected missing key for band SVI03\n",
      "detected missing key for band SVI03\n",
      "detected missing key for band SVI03\n",
      "20150707_1801071\n",
      "detected missing key for band SVI02\n",
      "detected missing key for band SVI02\n",
      "detected missing key for band SVI02\n",
      "20150707_1937511\n",
      "20150707_1936257\n",
      "20150707_1940419\n",
      "20150707_1942073\n",
      "20150707_1939165\n",
      "20150707_1935003\n",
      "20150707_1933346\n",
      "20150707_2115587\n",
      "20150707_2111440\n",
      "20150707_2117241\n",
      "20150707_2114351\n",
      "20150707_2120149\n",
      "20150707_2118495\n",
      "20150707_2121403\n",
      "20150707_2113097\n",
      "20150707_2258243\n",
      "20150707_2252425\n",
      "20150707_2301151\n",
      "20150707_2259497\n",
      "20150707_2256589\n",
      "20150707_2255335\n",
      "20150707_2302405\n",
      "20150707_2254081\n",
      "20150708_0036336\n",
      "20150708_0040499\n",
      "20150708_0042153\n",
      "20150708_0039245\n",
      "20150708_0037591\n"
     ]
    }
   ],
   "source": [
    "cata = vt.getgranulecatalog(basedir)"
   ]
  },
  {
   "cell_type": "markdown",
   "metadata": {},
   "source": [
    "... and write out the result as JSON to a file. "
   ]
  },
  {
   "cell_type": "code",
   "execution_count": 34,
   "metadata": {
    "collapsed": false
   },
   "outputs": [],
   "source": [
    "with open(os.path.join(basedir, 'viirsgranulecatalog.json'), 'w') as dest:\n",
    "    dest.write(json.dumps(cata, indent=2))"
   ]
  }
 ],
 "metadata": {
  "kernelspec": {
   "display_name": "Python 2",
   "language": "python",
   "name": "python2"
  },
  "language_info": {
   "codemirror_mode": {
    "name": "ipython",
    "version": 2
   },
   "file_extension": ".py",
   "mimetype": "text/x-python",
   "name": "python",
   "nbconvert_exporter": "python",
   "pygments_lexer": "ipython2",
   "version": "2.7.11"
  }
 },
 "nbformat": 4,
 "nbformat_minor": 0
}
